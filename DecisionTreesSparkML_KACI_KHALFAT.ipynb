{
  "nbformat": 4,
  "nbformat_minor": 0,
  "metadata": {
    "application/vnd.databricks.v1+notebook": {
      "dashboards": [],
      "language": "python",
      "notebookMetadata": {
        "pythonIndentUnit": 2
      },
      "notebookName": "Spark-RDD-2021_solutions",
      "notebookOrigID": 2832703719774903,
      "widgets": {}
    },
    "colab": {
      "name": "DecisionTreesSparkML_KACI_KHALFAT.ipynb",
      "provenance": [],
      "collapsed_sections": [],
      "toc_visible": true
    },
    "kernelspec": {
      "display_name": "Python 3",
      "name": "python3"
    },
    "language_info": {
      "name": "python"
    }
  },
  "cells": [
    {
      "cell_type": "markdown",
      "metadata": {
        "id": "kCaImCHx_2a_"
      },
      "source": [
        "* Master DAC, BDLE, 2021 \n",
        "* Author: Mohamed-Amine Baazizi\n",
        "* Affiliation: LIP6 - Faculté des Sciences - Sorbonne Université\n",
        "* Email: mohamed-amine.baazizi@lip6.fr\n"
      ]
    },
    {
      "cell_type": "markdown",
      "metadata": {
        "id": "YLwuiho4VJ5h"
      },
      "source": [
        " **Binôme :**\n",
        "\n",
        "- **Inas KACI**\n",
        "- **Célina KHALFAT**"
      ]
    },
    {
      "cell_type": "markdown",
      "metadata": {
        "id": "XzEVmTXWQq-n"
      },
      "source": [
        "# Decision Tree in Spark ML"
      ]
    },
    {
      "cell_type": "markdown",
      "metadata": {
        "id": "levNDESpS1hT"
      },
      "source": [
        "\n",
        "\n",
        "```\n",
        "# This is formatted as code\n",
        "```\n",
        "\n",
        "## Préparation"
      ]
    },
    {
      "cell_type": "markdown",
      "metadata": {
        "id": "4pZBsez9S1hT"
      },
      "source": [
        "Vérifier que des ressources de calcul sont allouées à votre notebook est connecté (cf RAM  de disque indiqués en haut à droite) . Sinon cliquer sur le bouton connecter pour obtenir des ressources.\n",
        "\n",
        "\n"
      ]
    },
    {
      "cell_type": "markdown",
      "metadata": {
        "id": "CEjerqQ6Ink6"
      },
      "source": [
        "Pour accéder directement aux fichiers stockées sur votre google drive. Renseigner le code d'authentification lorsqu'il est demandé\n",
        "\n",
        "Ajuster le nom de votre dossier : MyDrive/ens/bdle/dir. **Remplacer dir **"
      ]
    },
    {
      "cell_type": "code",
      "metadata": {
        "colab": {
          "base_uri": "https://localhost:8080/"
        },
        "id": "g7Dv93rsImuM",
        "outputId": "3cf549b6-44c3-47a4-c9d9-362a7df9d056"
      },
      "source": [
        "import os\n",
        "from google.colab import drive\n",
        "drive.mount(\"/content/drive\", force_remount=True)\n",
        "\n",
        "drive_dir = \"/content/drive/MyDrive/ens/bdle/DM2\"\n",
        "os.makedirs(drive_dir, exist_ok=True)\n",
        "os.listdir(drive_dir)"
      ],
      "execution_count": null,
      "outputs": [
        {
          "output_type": "stream",
          "name": "stdout",
          "text": [
            "Mounted at /content/drive\n"
          ]
        },
        {
          "output_type": "execute_result",
          "data": {
            "text/plain": [
              "['housing.csv']"
            ]
          },
          "metadata": {},
          "execution_count": 1
        }
      ]
    },
    {
      "cell_type": "markdown",
      "metadata": {
        "id": "7v9EXMl8aPZC"
      },
      "source": [
        "Installer pyspark et findspark :\n"
      ]
    },
    {
      "cell_type": "code",
      "metadata": {
        "id": "3zlwNHy1S8C2",
        "colab": {
          "base_uri": "https://localhost:8080/"
        },
        "outputId": "11d1f97e-c94d-465f-d95b-6bd79effd34b"
      },
      "source": [
        "!pip install -q pyspark\n",
        "!pip install -q findspark"
      ],
      "execution_count": null,
      "outputs": [
        {
          "output_type": "stream",
          "name": "stdout",
          "text": [
            "\u001b[K     |████████████████████████████████| 281.3 MB 8.5 kB/s \n",
            "\u001b[K     |████████████████████████████████| 198 kB 60.9 MB/s \n",
            "\u001b[?25h  Building wheel for pyspark (setup.py) ... \u001b[?25l\u001b[?25hdone\n"
          ]
        }
      ]
    },
    {
      "cell_type": "markdown",
      "metadata": {
        "id": "PnEmOd_zOUo0"
      },
      "source": [
        "Démarrer la session spark"
      ]
    },
    {
      "cell_type": "code",
      "metadata": {
        "id": "W0ADH0J-VW7i"
      },
      "source": [
        "import os\n",
        "# !find /usr/local -name \"pyspark\"\n",
        "os.environ[\"SPARK_HOME\"] = \"/usr/local/lib/python3.7/dist-packages/pyspark\"\n",
        "os.environ[\"JAVA_HOME\"] = \"/usr\""
      ],
      "execution_count": null,
      "outputs": []
    },
    {
      "cell_type": "code",
      "metadata": {
        "colab": {
          "base_uri": "https://localhost:8080/"
        },
        "id": "Q_WxQZB7TaUC",
        "outputId": "ac94e65e-0ad6-418e-85fc-76b7e872abbe"
      },
      "source": [
        "# Principaux import\n",
        "import findspark\n",
        "from pyspark.sql import SparkSession \n",
        "from pyspark import SparkConf  \n",
        "\n",
        "# pour les dataframe et udf\n",
        "from pyspark.sql import *  \n",
        "from pyspark.sql.functions import *\n",
        "from pyspark.sql.types import *\n",
        "from datetime import *\n",
        "\n",
        "# pour le chronomètre\n",
        "import time\n",
        "\n",
        "#pour les dataframe de pandas\n",
        "import pandas as pd\n",
        "\n",
        "# initialise les variables d'environnement pour spark\n",
        "findspark.init()\n",
        "\n",
        "# Démarrage session spark \n",
        "# --------------------------\n",
        "def demarrer_spark():\n",
        "  local = \"local[*]\"\n",
        "  appName = \"TP\"\n",
        "  configLocale = SparkConf().setAppName(appName).setMaster(local).\\\n",
        "  set(\"spark.executor.memory\", \"6G\").\\\n",
        "  set(\"spark.driver.memory\",\"6G\").\\\n",
        "  set(\"spark.sql.catalogImplementation\",\"in-memory\")\n",
        "  \n",
        "  spark = SparkSession.builder.config(conf = configLocale).getOrCreate()\n",
        "  sc = spark.sparkContext\n",
        "  sc.setLogLevel(\"ERROR\")\n",
        "  \n",
        "  spark.conf.set(\"spark.sql.autoBroadcastJoinThreshold\",\"-1\")\n",
        "\n",
        "  # On ajuste l'environnement d'exécution des requêtes à la taille du cluster (4 coeurs)\n",
        "  spark.conf.set(\"spark.sql.shuffle.partitions\",\"4\")    \n",
        "  print(\"session démarrée, son id est \", sc.applicationId)\n",
        "  return spark\n",
        "spark = demarrer_spark()"
      ],
      "execution_count": null,
      "outputs": [
        {
          "output_type": "stream",
          "name": "stdout",
          "text": [
            "session démarrée, son id est  local-1637178063518\n"
          ]
        }
      ]
    },
    {
      "cell_type": "code",
      "metadata": {
        "colab": {
          "base_uri": "https://localhost:8080/"
        },
        "id": "fj9pUgrmGpLe",
        "outputId": "7ceedaaf-adc9-4bc2-88d5-f26c9a38c753"
      },
      "source": [
        "# on utilise 8 partitions au lieu de 200 par défaut\n",
        "spark.conf.set(\"spark.sql.shuffle.partitions\", \"8\")\n",
        "print(\"Nombre de partitions utilisées : \", spark.conf.get(\"spark.sql.shuffle.partitions\"))"
      ],
      "execution_count": null,
      "outputs": [
        {
          "output_type": "stream",
          "name": "stdout",
          "text": [
            "Nombre de partitions utilisées :  8\n"
          ]
        }
      ]
    },
    {
      "cell_type": "markdown",
      "metadata": {
        "id": "FAFq9pY5gWcB"
      },
      "source": [
        "## Chargement des données"
      ]
    },
    {
      "cell_type": "markdown",
      "metadata": {
        "id": "uRSKnbZIMKGK"
      },
      "source": [
        "Le dataset que nous allons utilisée est celui sur les maisons aux Etats-Unis  : USA Housing."
      ]
    },
    {
      "cell_type": "markdown",
      "metadata": {
        "id": "UE7LsDjlKeoy"
      },
      "source": [
        "### Premier essai du chargement des données\n",
        "\n",
        "Nous téléchargeons les données à l'aide de spark."
      ]
    },
    {
      "cell_type": "code",
      "metadata": {
        "colab": {
          "base_uri": "https://localhost:8080/"
        },
        "id": "tDzaMccUKeA8",
        "outputId": "05b00da8-88e5-437a-b404-91213a491fb1"
      },
      "source": [
        "housing_spark =  spark.read\\\n",
        "            .format(\"csv\").option(\"header\", \"true\")\\\n",
        "            .option(\"inferSchema\", \"true\")\\\n",
        "            .load(drive_dir +\"/housing.csv\")\n",
        "housing_spark.printSchema()"
      ],
      "execution_count": null,
      "outputs": [
        {
          "output_type": "stream",
          "name": "stdout",
          "text": [
            "root\n",
            " |-- id: string (nullable = true)\n",
            " |-- url: string (nullable = true)\n",
            " |-- region: string (nullable = true)\n",
            " |-- region_url: string (nullable = true)\n",
            " |-- price: string (nullable = true)\n",
            " |-- type: string (nullable = true)\n",
            " |-- sqfeet: string (nullable = true)\n",
            " |-- beds: string (nullable = true)\n",
            " |-- baths: string (nullable = true)\n",
            " |-- cats_allowed: string (nullable = true)\n",
            " |-- dogs_allowed: string (nullable = true)\n",
            " |-- smoking_allowed: string (nullable = true)\n",
            " |-- wheelchair_access: string (nullable = true)\n",
            " |-- electric_vehicle_charge: integer (nullable = true)\n",
            " |-- comes_furnished: string (nullable = true)\n",
            " |-- laundry_options: string (nullable = true)\n",
            " |-- parking_options: string (nullable = true)\n",
            " |-- image_url: string (nullable = true)\n",
            " |-- description: string (nullable = true)\n",
            " |-- lat: string (nullable = true)\n",
            " |-- long: string (nullable = true)\n",
            " |-- state: string (nullable = true)\n",
            "\n"
          ]
        }
      ]
    },
    {
      "cell_type": "code",
      "metadata": {
        "colab": {
          "base_uri": "https://localhost:8080/"
        },
        "id": "jXXFX5PYKvZR",
        "outputId": "b90cfaae-db70-4d9d-a05e-8d5c1d8e512e"
      },
      "source": [
        "take_id = housing_spark['id']==\"7047757846\"\n",
        "housing_id_spark = housing_spark[take_id]\n",
        "housing_id_spark.show()"
      ],
      "execution_count": null,
      "outputs": [
        {
          "output_type": "stream",
          "name": "stdout",
          "text": [
            "+----------+--------------------+------------+--------------------+-----+---------+------+----+-----+------------+------------+---------------+-----------------+-----------------------+---------------+---------------+---------------+--------------------+--------------------+--------------------+--------------------+--------------+\n",
            "|        id|                 url|      region|          region_url|price|     type|sqfeet|beds|baths|cats_allowed|dogs_allowed|smoking_allowed|wheelchair_access|electric_vehicle_charge|comes_furnished|laundry_options|parking_options|           image_url|         description|                 lat|                long|         state|\n",
            "+----------+--------------------+------------+--------------------+-----+---------+------+----+-----+------------+------------+---------------+-----------------+-----------------------+---------------+---------------+---------------+--------------------+--------------------+--------------------+--------------------+--------------+\n",
            "|7047757846|https://reno.crai...|reno / tahoe|https://reno.crai...| 1695|townhouse|  1226|   3|  2.5|           0|           0|              1|                0|                      0|              0|    w/d in unit|attached garage|https://images.cr...|\"Beautiful 2-stor...| 2 car-garage and...|226 square feet. ...|695/month.  $1|\n",
            "+----------+--------------------+------------+--------------------+-----+---------+------+----+-----+------------+------------+---------------+-----------------+-----------------------+---------------+---------------+---------------+--------------------+--------------------+--------------------+--------------------+--------------+\n",
            "\n"
          ]
        }
      ]
    },
    {
      "cell_type": "markdown",
      "metadata": {
        "id": "W07ymm4iLCBI"
      },
      "source": [
        "On remarque que les valeurs ne correspondent pas aux colonnes : \n",
        "- les latitudes et longitudes sont des bouts de phrases\n",
        "- l'état est une somme par mois\n",
        "\n",
        "L'analyse suivante permet également de montrer que les valeurs des états sont incohérents : "
      ]
    },
    {
      "cell_type": "code",
      "metadata": {
        "colab": {
          "base_uri": "https://localhost:8080/"
        },
        "id": "b7e-zqcDLZUv",
        "outputId": "13dd4aff-9355-4d8a-d03e-60168cd5961f"
      },
      "source": [
        "housing_spark.select('state').distinct().count()"
      ],
      "execution_count": null,
      "outputs": [
        {
          "output_type": "execute_result",
          "data": {
            "text/plain": [
              "4442"
            ]
          },
          "metadata": {},
          "execution_count": 8
        }
      ]
    },
    {
      "cell_type": "markdown",
      "metadata": {
        "id": "sdu6rlRALhh3"
      },
      "source": [
        "On compte 4442 états différents alors qu'il n'existe que 50 états aux États Unis...\n",
        "\n",
        "Il existe également des tuples où les id sont des chaînes de caractères : "
      ]
    },
    {
      "cell_type": "code",
      "metadata": {
        "colab": {
          "base_uri": "https://localhost:8080/"
        },
        "id": "NvKTp8-0Lvbi",
        "outputId": "d531cd47-f764-4c41-a424-d696cd8eac8c"
      },
      "source": [
        "housing_spark.select('*').filter ( col(\"id\").rlike(\"[A-z]\")).distinct().show()"
      ],
      "execution_count": null,
      "outputs": [
        {
          "output_type": "stream",
          "name": "stdout",
          "text": [
            "+--------------------+--------------------+--------------------+----------+---------+--------------+-------------+----------------+--------------------+------------+--------------------+---------------+-----------------+-----------------------+---------------+---------------+---------------+---------------+-----------+--------+----+-----+\n",
            "|                  id|                 url|              region|region_url|    price|          type|       sqfeet|            beds|               baths|cats_allowed|        dogs_allowed|smoking_allowed|wheelchair_access|electric_vehicle_charge|comes_furnished|laundry_options|parking_options|      image_url|description|     lat|long|state|\n",
            "+--------------------+--------------------+--------------------+----------+---------+--------------+-------------+----------------+--------------------+------------+--------------------+---------------+-----------------+-----------------------+---------------+---------------+---------------+---------------+-----------+--------+----+-----+\n",
            "| short Term Renta...| my job is to rep...|             25.7907|  -80.1294|       fl|          null|         null|            null|                null|        null|                null|           null|             null|                   null|           null|           null|           null|           null|       null|    null|null| null|\n",
            "|             no Pets| No Smoking  When...| my job is to rep...|       Bar|Clubhouse|Community Pool|Exercise Room|Laundry Facility|     Child Play Area| Spa/Hot Tub|          Dishwasher|          Dryer|         Elevator|                   null|      Microwave|           null|   Refrigerator|Washer  578810\"|    25.8486|-80.1446|  fl| null|\n",
            "| breathtaking Int...| Unit Comes Fully...| It Has Porcelain...|      Pool|  Jacuzzi|           Gym|     Bbq Area|      Party Room| Boardwalk. Rent ...|    Cable Tv| Internet and water.|           null|             null|                   null|           null|           null|           null|           null|       null|    null|null| null|\n",
            "+--------------------+--------------------+--------------------+----------+---------+--------------+-------------+----------------+--------------------+------------+--------------------+---------------+-----------------+-----------------------+---------------+---------------+---------------+---------------+-----------+--------+----+-----+\n",
            "\n"
          ]
        }
      ]
    },
    {
      "cell_type": "markdown",
      "metadata": {
        "id": "WYby6CGRL2yL"
      },
      "source": [
        "**Mini-conclusion** : la manière dont les données sont chargées \"casse\" la structure initiale des données."
      ]
    },
    {
      "cell_type": "markdown",
      "metadata": {
        "id": "xmoxmTT8Mzaz"
      },
      "source": [
        "### Chargement des données "
      ]
    },
    {
      "cell_type": "markdown",
      "metadata": {
        "id": "gLRJdtqpM3Sl"
      },
      "source": [
        "Nous allons dans un premier temps lire le fichier à l'aide de pandas puis créer une DataFrame spark."
      ]
    },
    {
      "cell_type": "code",
      "metadata": {
        "id": "URmt0Pvs4wcu"
      },
      "source": [
        "right_schema = StructType([ StructField(\"id\",LongType(), True),  #Integer pas assez grand\n",
        "                      StructField(\"url\",StringType(), True),\n",
        "                      StructField(\"region\",StringType(), True),\n",
        "                      StructField(\"region_url\",StringType(), True),\n",
        "                      StructField(\"price\",LongType(), True),\n",
        "                      StructField(\"type\",StringType(), True),\n",
        "                      StructField(\"sqfeet\",IntegerType(), True),\n",
        "                      StructField(\"beds\",IntegerType(), True),\n",
        "                      StructField(\"baths\",DoubleType(), True),\n",
        "                      StructField(\"cats_allowed\",IntegerType(), True),\n",
        "                      StructField(\"dogs_allowed\",IntegerType(), True),\n",
        "                      StructField(\"smoking_allowed\",IntegerType(), True),\n",
        "                      StructField(\"wheelchair_access\",IntegerType(), True),\n",
        "                      StructField(\"electric_vehicle_charge\",IntegerType(), True),\n",
        "                      StructField(\"comes_furnished\",IntegerType(), True),\n",
        "                      StructField(\"laundry_options\",StringType(), True),\n",
        "                      StructField(\"parking_options\",StringType(), True),\n",
        "                      StructField(\"image_url\",StringType(), True),\n",
        "                      StructField(\"description\",StringType(), True),\n",
        "                      StructField(\"lat\",DoubleType(), True),\n",
        "                      StructField(\"long\",DoubleType(), True),\n",
        "                      StructField(\"state\",StringType(), True)\n",
        "])"
      ],
      "execution_count": null,
      "outputs": []
    },
    {
      "cell_type": "code",
      "metadata": {
        "id": "NELgbqWC5qVz"
      },
      "source": [
        "housing_pd= pd.read_csv(drive_dir + \"/housing.csv\")\n",
        "housing=spark.createDataFrame(housing_pd , schema=right_schema) "
      ],
      "execution_count": null,
      "outputs": []
    },
    {
      "cell_type": "code",
      "metadata": {
        "id": "D8-bdHUVYwzt"
      },
      "source": [
        "#Permet de remplacer les NaN par des null\n",
        "housing=housing.replace(float('NaN'), None)\n",
        "housing=housing.replace('NaN', None)"
      ],
      "execution_count": null,
      "outputs": []
    },
    {
      "cell_type": "code",
      "metadata": {
        "colab": {
          "base_uri": "https://localhost:8080/"
        },
        "id": "DIO5lOr6M8yB",
        "outputId": "7805120b-8ee2-42f8-af8e-32f0cd3968b7"
      },
      "source": [
        "take_id = housing['id']==\"7047757846\"\n",
        "housing_id = housing[take_id]\n",
        "housing_id.show()"
      ],
      "execution_count": null,
      "outputs": [
        {
          "output_type": "stream",
          "name": "stdout",
          "text": [
            "+----------+--------------------+------------+--------------------+-----+---------+------+----+-----+------------+------------+---------------+-----------------+-----------------------+---------------+---------------+---------------+--------------------+--------------------+-------+-------------------+-----+\n",
            "|        id|                 url|      region|          region_url|price|     type|sqfeet|beds|baths|cats_allowed|dogs_allowed|smoking_allowed|wheelchair_access|electric_vehicle_charge|comes_furnished|laundry_options|parking_options|           image_url|         description|    lat|               long|state|\n",
            "+----------+--------------------+------------+--------------------+-----+---------+------+----+-----+------------+------------+---------------+-----------------+-----------------------+---------------+---------------+---------------+--------------------+--------------------+-------+-------------------+-----+\n",
            "|7047757846|https://reno.crai...|reno / tahoe|https://reno.crai...| 1695|townhouse|  1226|   3|  2.5|           0|           0|              1|                0|                      0|              0|    w/d in unit|attached garage|https://images.cr...|Beautiful 2-story...|39.5954|-119.71700000000001|   ca|\n",
            "+----------+--------------------+------------+--------------------+-----+---------+------+----+-----+------------+------------+---------------+-----------------+-----------------------+---------------+---------------+---------------+--------------------+--------------------+-------+-------------------+-----+\n",
            "\n"
          ]
        }
      ]
    },
    {
      "cell_type": "markdown",
      "metadata": {
        "id": "-Ody9O4XNb0h"
      },
      "source": [
        "Avec le même id (7047757846) que lors du test précédent, les valeurs de la latitude, longitude et de l'état sont cohérentes et le nombre d'état différents est plus réaliste."
      ]
    },
    {
      "cell_type": "code",
      "metadata": {
        "colab": {
          "base_uri": "https://localhost:8080/"
        },
        "id": "qXCTKTbOrvMa",
        "outputId": "bd96a4b2-bcfd-49e3-a666-7bb723ffca92"
      },
      "source": [
        "housing.select('state').distinct().count()"
      ],
      "execution_count": null,
      "outputs": [
        {
          "output_type": "execute_result",
          "data": {
            "text/plain": [
              "51"
            ]
          },
          "metadata": {},
          "execution_count": 12
        }
      ]
    },
    {
      "cell_type": "markdown",
      "metadata": {
        "id": "f8cZzUeLOPKF"
      },
      "source": [
        "Cependant, 3 tuples sont supprimés lors de ce chargement. Ces 3 tuples correspondent aux tuples dont les id étaient des chaînes de caractères : "
      ]
    },
    {
      "cell_type": "code",
      "metadata": {
        "colab": {
          "base_uri": "https://localhost:8080/"
        },
        "id": "KEk1mNsCeRBm",
        "outputId": "3f01b535-4f04-48ba-8efc-9210a1f0c0f3"
      },
      "source": [
        "housing.select('*').filter ( col(\"id\").rlike(\"[A-z]\")).distinct().show()"
      ],
      "execution_count": null,
      "outputs": [
        {
          "output_type": "stream",
          "name": "stdout",
          "text": [
            "+---+---+------+----------+-----+----+------+----+-----+------------+------------+---------------+-----------------+-----------------------+---------------+---------------+---------------+---------+-----------+---+----+-----+\n",
            "| id|url|region|region_url|price|type|sqfeet|beds|baths|cats_allowed|dogs_allowed|smoking_allowed|wheelchair_access|electric_vehicle_charge|comes_furnished|laundry_options|parking_options|image_url|description|lat|long|state|\n",
            "+---+---+------+----------+-----+----+------+----+-----+------------+------------+---------------+-----------------+-----------------------+---------------+---------------+---------------+---------+-----------+---+----+-----+\n",
            "+---+---+------+----------+-----+----+------+----+-----+------------+------------+---------------+-----------------+-----------------------+---------------+---------------+---------------+---------+-----------+---+----+-----+\n",
            "\n"
          ]
        }
      ]
    },
    {
      "cell_type": "markdown",
      "metadata": {
        "id": "KtgWG0N0OgiF"
      },
      "source": [
        "**Conclusion :** Les données sont bien mieux structurées en les chargeant de cette manière.\n",
        "\n",
        "La DataFrame de Spark que nous allons utilisé est donc **housing**."
      ]
    },
    {
      "cell_type": "markdown",
      "metadata": {
        "id": "JbUuwvLGltDB"
      },
      "source": [
        "## Analyse des données"
      ]
    },
    {
      "cell_type": "markdown",
      "metadata": {
        "id": "hQWocvyLO5Je"
      },
      "source": [
        "Nous allons maintenant analyser les données plus en détail. Nous allons nous intéresser : \n",
        "- à des statistiques basiques telles que la moyenne, l'écart-type, le min et le max\n",
        "- au taux de valeurs manquantes\n",
        "- au nombre de valeurs distincts dans chaque colonne (pour savoir si l'information varie trop ou pas assez)\n",
        "- aux outliers\n",
        "\n"
      ]
    },
    {
      "cell_type": "code",
      "metadata": {
        "colab": {
          "base_uri": "https://localhost:8080/"
        },
        "id": "zELpSs8YNeMM",
        "outputId": "729b4940-0b73-4ee6-b001-8e0ce307ff4f"
      },
      "source": [
        "housing.show()"
      ],
      "execution_count": null,
      "outputs": [
        {
          "output_type": "stream",
          "name": "stdout",
          "text": [
            "+----------+--------------------+------------+--------------------+-----+---------+------+----+-----+------------+------------+---------------+-----------------+-----------------------+---------------+---------------+------------------+--------------------+--------------------+-------+-------------------+-----+\n",
            "|        id|                 url|      region|          region_url|price|     type|sqfeet|beds|baths|cats_allowed|dogs_allowed|smoking_allowed|wheelchair_access|electric_vehicle_charge|comes_furnished|laundry_options|   parking_options|           image_url|         description|    lat|               long|state|\n",
            "+----------+--------------------+------------+--------------------+-----+---------+------+----+-----+------------+------------+---------------+-----------------+-----------------------+---------------+---------------+------------------+--------------------+--------------------+-------+-------------------+-----+\n",
            "|7049044568|https://reno.crai...|reno / tahoe|https://reno.crai...| 1148|apartment|  1078|   3|  2.0|           1|           1|              0|                0|                      0|              0|    w/d in unit|           carport|https://images.cr...|Ridgeview by Vint...|39.5483|           -119.796|   ca|\n",
            "|7049047186|https://reno.crai...|reno / tahoe|https://reno.crai...| 1200|    condo|  1001|   2|  2.0|           0|           0|              0|                0|                      0|              0|    w/d hookups|           carport|https://images.cr...|Conveniently loca...|39.5026|           -119.789|   ca|\n",
            "|7043634882|https://reno.crai...|reno / tahoe|https://reno.crai...| 1813|apartment|  1683|   2|  2.0|           1|           1|              1|                0|                      0|              0|    w/d in unit|   attached garage|https://images.cr...|2BD | 2BA | 1683S...|39.6269|           -119.708|   ca|\n",
            "|7049045324|https://reno.crai...|reno / tahoe|https://reno.crai...| 1095|apartment|   708|   1|  1.0|           1|           1|              1|                0|                      0|              0|    w/d in unit|           carport|https://images.cr...|MOVE IN SPECIAL F...|39.4477|           -119.771|   ca|\n",
            "|7049043759|https://reno.crai...|reno / tahoe|https://reno.crai...|  289|apartment|   250|   0|  1.0|           1|           1|              1|                1|                      0|              1|laundry on site|              null|https://images.cr...|Move In Today: Re...|39.5357|           -119.805|   ca|\n",
            "|7046327064|https://reno.crai...|reno / tahoe|https://reno.crai...| 1093|apartment|   720|   1|  1.0|           1|           1|              1|                0|                      0|              0|laundry in bldg|              null|https://images.cr...|1BD | 1BA | 720SQ...|39.4572|-119.77600000000001|   ca|\n",
            "|7049020738|https://reno.crai...|reno / tahoe|https://reno.crai...|  935|apartment|   661|   1|  1.0|           1|           1|              1|                0|                      0|              0|laundry on site|off-street parking|https://images.cr...|Tucked away in a ...|39.5118|           -119.802|   ca|\n",
            "|7049041899|https://reno.crai...|reno / tahoe|https://reno.crai...| 1095|apartment|   708|   1|  1.0|           1|           1|              1|                0|                      0|              0|    w/d in unit|           carport|https://images.cr...|MOVE IN SPECIAL F...|39.4477|           -119.771|   ca|\n",
            "|7049041451|https://reno.crai...|reno / tahoe|https://reno.crai...| 1525|apartment|  1053|   2|  2.0|           1|           1|              0|                0|                      0|              0|    w/d in unit|           carport|https://images.cr...|BRAND NEW APARTME...|39.6185|-119.67200000000001|   ca|\n",
            "|7049041434|https://reno.crai...|reno / tahoe|https://reno.crai...| 1295|    condo|   930|   2|  2.0|           0|           0|              0|                0|                      0|              0|    w/d in unit|           carport|https://images.cr...|6850 Sharlands Av...|39.5193|           -119.897|   ca|\n",
            "|7049040060|https://reno.crai...|reno / tahoe|https://reno.crai...| 1086|apartment|   720|   1|  1.0|           0|           0|              1|                0|                      0|              0|           null|              null|https://images.cr...|In addition to at...|39.4572|-119.77600000000001|   ca|\n",
            "|7049039558|https://reno.crai...|reno / tahoe|https://reno.crai...| 2195|    house|  3115|   4|  3.0|           0|           0|              0|                0|                      0|              0|    w/d hookups|   attached garage|https://images.cr...|2741 Albazano Dri...|39.5987|           -119.693|   ca|\n",
            "|7049038099|https://reno.crai...|reno / tahoe|https://reno.crai...| 1159|apartment|  1181|   3|  2.0|           1|           1|              1|                0|                      0|              0|    w/d in unit|           carport|https://images.cr...|Welcome Home to Z...|39.5384|           -119.863|   ca|\n",
            "|7047575862|https://reno.crai...|reno / tahoe|https://reno.crai...| 1349|apartment|   766|   1|  1.0|           1|           1|              0|                0|                      0|              0|    w/d in unit|              null|https://images.cr...|Style, substance,...|39.5393|            -119.75|   ca|\n",
            "|7049031207|https://reno.crai...|reno / tahoe|https://reno.crai...| 1449|apartment|   764|   1|  1.0|           1|           1|              1|                0|                      0|              0|    w/d in unit|off-street parking|https://images.cr...|Pre-leasing for 2...|39.5502|-119.71799999999999|   ca|\n",
            "|7049037378|https://reno.crai...|reno / tahoe|https://reno.crai...| 1295|apartment|   951|   2|  2.0|           0|           0|              0|                0|                      0|              0|    w/d in unit|off-street parking|https://images.cr...|200 Talus Way #22...|39.5617|-119.82799999999999|   ca|\n",
            "|7049031994|https://reno.crai...|reno / tahoe|https://reno.crai...|  982|apartment|   919|   2|  2.0|           1|           1|              0|                0|                      0|              0|    w/d in unit|           carport|https://images.cr...|Ridgeview by Vint...|39.5483|           -119.796|   ca|\n",
            "|7049036811|https://reno.crai...|reno / tahoe|https://reno.crai...| 1895|apartment|  1193|   2|  2.0|           1|           1|              0|                0|                      0|              0|    w/d in unit|   attached garage|https://images.cr...|Inova14001 SUMMIT...|39.4015|           -119.755|   ca|\n",
            "|7049034720|https://reno.crai...|reno / tahoe|https://reno.crai...| 1495|   duplex|  1192|   3|  1.0|           1|           1|              0|                0|                      0|              0|    w/d hookups|   detached garage|https://images.cr...|12001 Andes Stree...|39.6369|            -119.88|   ca|\n",
            "|7047407034|https://reno.crai...|reno / tahoe|https://reno.crai...| 1899|    house|  1600|   3|  2.0|           0|           0|              0|                0|                      0|              0|    w/d in unit|   attached garage|https://images.cr...|3 YEAR NEW EXECUT...|39.5614|           -119.695|   ca|\n",
            "+----------+--------------------+------------+--------------------+-----+---------+------+----+-----+------------+------------+---------------+-----------------+-----------------------+---------------+---------------+------------------+--------------------+--------------------+-------+-------------------+-----+\n",
            "only showing top 20 rows\n",
            "\n"
          ]
        }
      ]
    },
    {
      "cell_type": "code",
      "metadata": {
        "colab": {
          "base_uri": "https://localhost:8080/"
        },
        "id": "2v8D4PCJzPb2",
        "outputId": "e3487e15-a682-4547-a125-c864f0425530"
      },
      "source": [
        "print(\"Il y a\", housing.select(\"*\").count(),\"tuples.\")"
      ],
      "execution_count": null,
      "outputs": [
        {
          "output_type": "stream",
          "name": "stdout",
          "text": [
            "Il y a 384977 tuples.\n"
          ]
        }
      ]
    },
    {
      "cell_type": "code",
      "metadata": {
        "id": "kf5RamSrPeLC"
      },
      "source": [
        "NB_TUPLES = 384977"
      ],
      "execution_count": null,
      "outputs": []
    },
    {
      "cell_type": "markdown",
      "metadata": {
        "id": "oSv_t_cx7TpU"
      },
      "source": [
        "- les différentes fonctions qui seront utilisées"
      ]
    },
    {
      "cell_type": "code",
      "metadata": {
        "id": "XaHUB6ehO8Yu"
      },
      "source": [
        "import numpy as np\n",
        "import matplotlib.pyplot as plt\n",
        "import pyspark.sql.functions as f"
      ],
      "execution_count": null,
      "outputs": []
    },
    {
      "cell_type": "code",
      "metadata": {
        "id": "-x1AJ-RlPadI"
      },
      "source": [
        "@udf('float')\n",
        "def pourcentage(n):\n",
        "  return (n/NB_TUPLES)*100"
      ],
      "execution_count": null,
      "outputs": []
    },
    {
      "cell_type": "code",
      "metadata": {
        "id": "XBWKsBSF7WoQ"
      },
      "source": [
        "def outliers_normale (col) :\n",
        "  bounds = {\n",
        "    c: dict(\n",
        "        zip([\"q1\", \"q3\"], col.approxQuantile(c, [0.25, 0.75], 0))\n",
        "    )\n",
        "    for c in col.columns\n",
        "  }\n",
        "  print('bounds : ', bounds)\n",
        "  c = col.columns[0]\n",
        "  q1 = bounds[c]['q1']\n",
        "  q3 = bounds[c]['q3']\n",
        "  interq = q3-q1\n",
        "  min = q1 - 1.5*interq\n",
        "  max = q3 + 1.5*interq\n",
        "  print('min : ', min)\n",
        "  print('max : ', max)\n",
        "  return col.select(\n",
        "    \"*\",\n",
        "    *[\n",
        "        f.when(\n",
        "            f.col(c).between(min, max),\n",
        "            0\n",
        "        ).otherwise(1).alias(c+\"_out\") \n",
        "        for c in col.columns\n",
        "    ]\n",
        "    )"
      ],
      "execution_count": null,
      "outputs": []
    },
    {
      "cell_type": "code",
      "metadata": {
        "id": "5N8wwT0jO-KP"
      },
      "source": [
        "def outliers_autres (col) :\n",
        "  bounds = {\n",
        "    c: dict(\n",
        "        zip([\"q01\", \"q99\"], col.approxQuantile(c, [0.01, 0.99], 0))\n",
        "    )\n",
        "    for c in col.columns\n",
        "  }\n",
        "  print('bounds : ', bounds)\n",
        "  return col.select(\n",
        "    \"*\",\n",
        "    *[\n",
        "        f.when(\n",
        "            f.col(c).between(bounds[c]['q01'], bounds[c]['q99']),\n",
        "            0\n",
        "        ).otherwise(1).alias(c+\"_out\") \n",
        "        for c in col.columns\n",
        "    ]\n",
        "    )"
      ],
      "execution_count": null,
      "outputs": []
    },
    {
      "cell_type": "markdown",
      "metadata": {
        "id": "oUk9iH9rPIBb"
      },
      "source": [
        "Les outliers ne sont pas détecter de la même façon si une distribution est normale ou non.\n",
        "\n",
        " - Si la distribution est **normale** :\n",
        "\n",
        " Soit IQR, l'écart entre le quartile q1 (25%) et q3 (75%), une valeur est considéré comme un outlier si elle est inférieur à q1 - 1.5*IQR ou si elle est supérieur à q3 + 1.5*IQR.\n",
        "\n",
        " - Si c'est une **autre distribution** :     \n",
        "\n",
        " On peut s'intéresser aux centiles, une valeur est considéré comme un outilier si elle est inférieur à 1% centile ou si elle est supérieur à 99% centile.\n"
      ]
    },
    {
      "cell_type": "markdown",
      "metadata": {
        "id": "NN-nAgaNBXq1"
      },
      "source": [
        "### Analyse des id"
      ]
    },
    {
      "cell_type": "code",
      "metadata": {
        "colab": {
          "base_uri": "https://localhost:8080/"
        },
        "id": "O9q99nUVBT8i",
        "outputId": "124591f5-ffd4-4857-b340-a7b9dc92ffad"
      },
      "source": [
        "housing.select('*').filter ( col(\"id\").rlike(\"[0-9]\")).distinct().count()"
      ],
      "execution_count": null,
      "outputs": [
        {
          "output_type": "execute_result",
          "data": {
            "text/plain": [
              "384977"
            ]
          },
          "metadata": {},
          "execution_count": 26
        }
      ]
    },
    {
      "cell_type": "markdown",
      "metadata": {
        "id": "JA9zxoMZto58"
      },
      "source": [
        "Tous les id de la base de données sont distincts et bien des chiffres."
      ]
    },
    {
      "cell_type": "markdown",
      "metadata": {
        "id": "pIwuHatV_BcU"
      },
      "source": [
        "### Analyse sur les attributs à valeur booléenne"
      ]
    },
    {
      "cell_type": "markdown",
      "metadata": {
        "id": "bTbBTx-pyQ_E"
      },
      "source": [
        "#### cats_allowed"
      ]
    },
    {
      "cell_type": "code",
      "metadata": {
        "colab": {
          "base_uri": "https://localhost:8080/"
        },
        "id": "evuPymXxtxXH",
        "outputId": "1d374e0d-cfb4-4e9b-904b-80275103443d"
      },
      "source": [
        "cats_allowed_distinct = housing.select('cats_allowed').groupby('cats_allowed').count().alias('count').withColumn(\"pourcentage\",pourcentage(\"count\"))\n",
        "cats_allowed_distinct.show()"
      ],
      "execution_count": null,
      "outputs": [
        {
          "output_type": "stream",
          "name": "stdout",
          "text": [
            "+------------+------+-----------+\n",
            "|cats_allowed| count|pourcentage|\n",
            "+------------+------+-----------+\n",
            "|           1|279836|   72.68902|\n",
            "|           0|105141|  27.310982|\n",
            "+------------+------+-----------+\n",
            "\n"
          ]
        }
      ]
    },
    {
      "cell_type": "markdown",
      "metadata": {
        "id": "Ei6T66iXyUdf"
      },
      "source": [
        "#### dogs_allowed"
      ]
    },
    {
      "cell_type": "code",
      "metadata": {
        "colab": {
          "base_uri": "https://localhost:8080/"
        },
        "id": "XvrlR5yw9vMK",
        "outputId": "90fc39ad-157f-43e5-9a07-aba0dbc1745e"
      },
      "source": [
        "dogs_allowed_distinct = housing.select('dogs_allowed').groupby('dogs_allowed').count().alias('count').withColumn(\"pourcentage\",pourcentage(\"count\"))\n",
        "dogs_allowed_distinct.show()"
      ],
      "execution_count": null,
      "outputs": [
        {
          "output_type": "stream",
          "name": "stdout",
          "text": [
            "+------------+------+-----------+\n",
            "|dogs_allowed| count|pourcentage|\n",
            "+------------+------+-----------+\n",
            "|           1|272532|   70.79176|\n",
            "|           0|112445|  29.208239|\n",
            "+------------+------+-----------+\n",
            "\n"
          ]
        }
      ]
    },
    {
      "cell_type": "markdown",
      "metadata": {
        "id": "6yUeO-OUyYGX"
      },
      "source": [
        "#### smoking_allowed"
      ]
    },
    {
      "cell_type": "code",
      "metadata": {
        "colab": {
          "base_uri": "https://localhost:8080/"
        },
        "id": "oDZAPBG3-x9r",
        "outputId": "f83db5ca-cdef-4db8-ceef-009ab73836e3"
      },
      "source": [
        "smoking_allowed_distinct = housing.select('smoking_allowed').groupby('smoking_allowed').count().alias('count').withColumn(\"pourcentage\",pourcentage(\"count\"))\n",
        "smoking_allowed_distinct.show() "
      ],
      "execution_count": null,
      "outputs": [
        {
          "output_type": "stream",
          "name": "stdout",
          "text": [
            "+---------------+------+-----------+\n",
            "|smoking_allowed| count|pourcentage|\n",
            "+---------------+------+-----------+\n",
            "|              1|281715|    73.1771|\n",
            "|              0|103262|    26.8229|\n",
            "+---------------+------+-----------+\n",
            "\n"
          ]
        }
      ]
    },
    {
      "cell_type": "markdown",
      "metadata": {
        "id": "KwPrUsiayaNk"
      },
      "source": [
        "#### wheelchair_access"
      ]
    },
    {
      "cell_type": "code",
      "metadata": {
        "colab": {
          "base_uri": "https://localhost:8080/"
        },
        "id": "lv57fVbLAT26",
        "outputId": "7acb3a80-7525-458a-cd79-d44b5aad5e1f"
      },
      "source": [
        "wheelchair_access_distinct = housing.select('wheelchair_access').groupby('wheelchair_access').count().alias('count').withColumn(\"pourcentage\",pourcentage(\"count\"))\n",
        "wheelchair_access_distinct.show()"
      ],
      "execution_count": null,
      "outputs": [
        {
          "output_type": "stream",
          "name": "stdout",
          "text": [
            "+-----------------+------+-----------+\n",
            "|wheelchair_access| count|pourcentage|\n",
            "+-----------------+------+-----------+\n",
            "|                1| 31611|    8.21114|\n",
            "|                0|353366|   91.78886|\n",
            "+-----------------+------+-----------+\n",
            "\n"
          ]
        }
      ]
    },
    {
      "cell_type": "markdown",
      "metadata": {
        "id": "aIPR6Z3Fyie0"
      },
      "source": [
        "#### electric_vehicle_charge"
      ]
    },
    {
      "cell_type": "code",
      "metadata": {
        "colab": {
          "base_uri": "https://localhost:8080/"
        },
        "id": "bbqZ9qgx_1KD",
        "outputId": "a4c90a29-c158-4b16-a670-e442d4d471b7"
      },
      "source": [
        "electric_vehicle_charge_distinct = housing.select('electric_vehicle_charge').groupby('electric_vehicle_charge').count().alias('count').withColumn(\"pourcentage\",pourcentage(\"count\"))\n",
        "electric_vehicle_charge_distinct.show()"
      ],
      "execution_count": null,
      "outputs": [
        {
          "output_type": "stream",
          "name": "stdout",
          "text": [
            "+-----------------------+------+-----------+\n",
            "|electric_vehicle_charge| count|pourcentage|\n",
            "+-----------------------+------+-----------+\n",
            "|                      1|  4955|  1.2870898|\n",
            "|                      0|380022|   98.71291|\n",
            "+-----------------------+------+-----------+\n",
            "\n"
          ]
        }
      ]
    },
    {
      "cell_type": "markdown",
      "metadata": {
        "id": "QORtSUGDykD4"
      },
      "source": [
        "#### comes_furnished"
      ]
    },
    {
      "cell_type": "code",
      "metadata": {
        "colab": {
          "base_uri": "https://localhost:8080/"
        },
        "id": "60y6vSOaAFyq",
        "outputId": "dc252b0a-000e-469d-c304-8eb371256cc6"
      },
      "source": [
        "comes_furnished_distinct = housing.select('comes_furnished').groupby('comes_furnished').count().alias('count').withColumn(\"pourcentage\",pourcentage(\"count\"))\n",
        "comes_furnished_distinct.show()"
      ],
      "execution_count": null,
      "outputs": [
        {
          "output_type": "stream",
          "name": "stdout",
          "text": [
            "+---------------+------+-----------+\n",
            "|comes_furnished| count|pourcentage|\n",
            "+---------------+------+-----------+\n",
            "|              1| 18528|   4.812755|\n",
            "|              0|366449|   95.18725|\n",
            "+---------------+------+-----------+\n",
            "\n"
          ]
        }
      ]
    },
    {
      "cell_type": "markdown",
      "metadata": {
        "id": "l0Z4DaUfvHI9"
      },
      "source": [
        "Pour les attributs à valeur booléenne, on remarque que les données sont propres : \n",
        "\n",
        "*   Les deux labels présents sont 0 et 1 \n",
        "*   La somme des valeurs est égale à 384977 soit le nombre de tuple total\n",
        "\n",
        "\n",
        "\n"
      ]
    },
    {
      "cell_type": "markdown",
      "metadata": {
        "id": "Z_JvjtwF_L_q"
      },
      "source": [
        "### Analyse sur les attributs à valeur catégorielle"
      ]
    },
    {
      "cell_type": "markdown",
      "metadata": {
        "id": "I6wMtfkiy85A"
      },
      "source": [
        "#### laundry_options"
      ]
    },
    {
      "cell_type": "code",
      "metadata": {
        "colab": {
          "base_uri": "https://localhost:8080/"
        },
        "id": "Aa_LGvIK-P67",
        "outputId": "5968b42a-358b-4edc-fd37-ebd39f155e27"
      },
      "source": [
        "laundry_options_distinct = housing.select('laundry_options').groupby('laundry_options').count().alias('count').withColumn(\"pourcentage\",pourcentage(\"count\")).orderBy('count')\n",
        "laundry_options_distinct.show()"
      ],
      "execution_count": null,
      "outputs": [
        {
          "output_type": "stream",
          "name": "stdout",
          "text": [
            "+------------------+------+-----------+\n",
            "|   laundry_options| count|pourcentage|\n",
            "+------------------+------+-----------+\n",
            "|no laundry on site|  3624| 0.94135493|\n",
            "|   laundry in bldg| 36103|   9.377963|\n",
            "|   laundry on site| 58873|  15.292602|\n",
            "|       w/d hookups| 75568|  19.629225|\n",
            "|              null| 79026|   20.52746|\n",
            "|       w/d in unit|131783|  34.231396|\n",
            "+------------------+------+-----------+\n",
            "\n"
          ]
        }
      ]
    },
    {
      "cell_type": "markdown",
      "metadata": {
        "id": "ljVI9JkMvz3U"
      },
      "source": [
        "#### type"
      ]
    },
    {
      "cell_type": "code",
      "metadata": {
        "colab": {
          "base_uri": "https://localhost:8080/"
        },
        "id": "Iut0odRQ-ccI",
        "outputId": "963aeed9-09b8-433d-8c3a-a9f7e3586b5b"
      },
      "source": [
        "type_distinct = housing.select('type').groupby('type').count().alias('count').withColumn(\"pourcentage\",pourcentage(\"count\")).orderBy('count')\n",
        "type_distinct.show()"
      ],
      "execution_count": null,
      "outputs": [
        {
          "output_type": "stream",
          "name": "stdout",
          "text": [
            "+---------------+------+------------+\n",
            "|           type| count| pourcentage|\n",
            "+---------------+------+------------+\n",
            "|assisted living|     2| 5.195116E-4|\n",
            "|           land|     8|0.0020780463|\n",
            "|         in-law|   172| 0.044677995|\n",
            "|           flat|   531|  0.13793032|\n",
            "|           loft|   693|  0.18001075|\n",
            "|  cottage/cabin|   861|  0.22364973|\n",
            "|   manufactured|  4242|    1.101884|\n",
            "|         duplex|  5047|   1.3109874|\n",
            "|          condo|  6238|   1.6203566|\n",
            "|      townhouse| 15885|   4.1262207|\n",
            "|          house| 33266|    8.641036|\n",
            "|      apartment|318032|    82.61065|\n",
            "+---------------+------+------------+\n",
            "\n"
          ]
        }
      ]
    },
    {
      "cell_type": "markdown",
      "metadata": {
        "id": "yBCjXYzo22i6"
      },
      "source": [
        "#### parking_options"
      ]
    },
    {
      "cell_type": "code",
      "metadata": {
        "colab": {
          "base_uri": "https://localhost:8080/"
        },
        "id": "p_5h-DnQ_Zw4",
        "outputId": "961bea68-157a-4697-b885-3a75481cb8b7"
      },
      "source": [
        "parking_options_distinct = housing.select('parking_options').groupby('parking_options').count().alias('count').withColumn(\"pourcentage\",pourcentage(\"count\")).orderBy('count')\n",
        "parking_options_distinct.show()"
      ],
      "execution_count": null,
      "outputs": [
        {
          "output_type": "stream",
          "name": "stdout",
          "text": [
            "+------------------+------+-----------+\n",
            "|   parking_options| count|pourcentage|\n",
            "+------------------+------+-----------+\n",
            "|     valet parking|   163|0.042340193|\n",
            "|        no parking|  3188|  0.8281014|\n",
            "|    street parking| 15951|  4.1433644|\n",
            "|   detached garage| 16940|   4.400263|\n",
            "|           carport| 38955|  10.118786|\n",
            "|   attached garage| 40591|  10.543747|\n",
            "|off-street parking|128502|  33.379135|\n",
            "|              null|140687|  36.544262|\n",
            "+------------------+------+-----------+\n",
            "\n"
          ]
        }
      ]
    },
    {
      "cell_type": "markdown",
      "metadata": {
        "id": "sF9RbWAJ3FEy"
      },
      "source": [
        "#### region"
      ]
    },
    {
      "cell_type": "code",
      "metadata": {
        "colab": {
          "base_uri": "https://localhost:8080/"
        },
        "id": "7viT4tqWOPXn",
        "outputId": "c78f8583-da59-4b11-b6ea-b61e18fc9600"
      },
      "source": [
        "region_distinct = housing.select('region').groupby('region').count().alias('count').orderBy(col('count').desc())\n",
        "region_distinct.show()\n",
        "region_distinct.count()"
      ],
      "execution_count": null,
      "outputs": [
        {
          "output_type": "stream",
          "name": "stdout",
          "text": [
            "+--------------------+-----+\n",
            "|              region|count|\n",
            "+--------------------+-----+\n",
            "|        jacksonville| 4246|\n",
            "|            columbus| 3738|\n",
            "|           rochester| 3677|\n",
            "|             jackson| 3667|\n",
            "|        fayetteville| 3652|\n",
            "|      fredericksburg| 2747|\n",
            "|omaha / council b...| 2727|\n",
            "|      salt lake city| 2719|\n",
            "|              denver| 2671|\n",
            "|      seattle-tacoma| 2626|\n",
            "|savannah / hinesv...| 2621|\n",
            "|             boulder| 2614|\n",
            "|            portland| 2596|\n",
            "|      ventura county| 2579|\n",
            "|            stockton| 2571|\n",
            "|fort collins / no...| 2567|\n",
            "|             orlando| 2564|\n",
            "|       inland empire| 2561|\n",
            "|          charleston| 2559|\n",
            "|             lincoln| 2550|\n",
            "+--------------------+-----+\n",
            "only showing top 20 rows\n",
            "\n"
          ]
        },
        {
          "output_type": "execute_result",
          "data": {
            "text/plain": [
              "404"
            ]
          },
          "metadata": {},
          "execution_count": 36
        }
      ]
    },
    {
      "cell_type": "code",
      "metadata": {
        "colab": {
          "base_uri": "https://localhost:8080/"
        },
        "id": "7lbQEabvh6jB",
        "outputId": "c8b73e8f-978b-4746-f107-23f0d2aca6f7"
      },
      "source": [
        "region_null = housing.select('*').filter(col('region').isNull()).count()\n",
        "print('Il y a', region_null, 'tuples avec une région nulle.')"
      ],
      "execution_count": null,
      "outputs": [
        {
          "output_type": "stream",
          "name": "stdout",
          "text": [
            "Il y a 0 tuples avec une région nulle.\n"
          ]
        }
      ]
    },
    {
      "cell_type": "markdown",
      "metadata": {
        "id": "JDQR9jkp3GyK"
      },
      "source": [
        "#### state"
      ]
    },
    {
      "cell_type": "code",
      "metadata": {
        "colab": {
          "base_uri": "https://localhost:8080/"
        },
        "id": "0I0lZ9_YzbqQ",
        "outputId": "7175a892-3c8a-456f-f09f-b6041fffc5bf"
      },
      "source": [
        "state_distinct = housing.select('state').groupby('state').count().alias('count').orderBy(col('count').desc())\n",
        "state_distinct.show(51)\n",
        "state_distinct.count()"
      ],
      "execution_count": null,
      "outputs": [
        {
          "output_type": "stream",
          "name": "stdout",
          "text": [
            "+-----+-----+\n",
            "|state|count|\n",
            "+-----+-----+\n",
            "|   ca|33085|\n",
            "|   fl|31929|\n",
            "|   tx|31137|\n",
            "|   nc|18628|\n",
            "|   mi|14529|\n",
            "|   ga|13841|\n",
            "|   oh|12884|\n",
            "|   tn|11541|\n",
            "|   co|11308|\n",
            "|   va|11063|\n",
            "|   ny| 9991|\n",
            "|   sc| 9932|\n",
            "|   pa| 9911|\n",
            "|   il| 9706|\n",
            "|   al| 8196|\n",
            "|   or| 8079|\n",
            "|   ks| 7910|\n",
            "|   ia| 7488|\n",
            "|   mn| 7468|\n",
            "|   md| 7451|\n",
            "|   la| 7304|\n",
            "|   wa| 7061|\n",
            "|   az| 6753|\n",
            "|   wi| 6646|\n",
            "|   in| 6416|\n",
            "|   ok| 5788|\n",
            "|   nj| 5711|\n",
            "|   ky| 5419|\n",
            "|   ut| 5194|\n",
            "|   ms| 4973|\n",
            "|   ma| 4926|\n",
            "|   id| 4466|\n",
            "|   ct| 3765|\n",
            "|   nd| 3428|\n",
            "|   ar| 3149|\n",
            "|   nm| 2917|\n",
            "|   nv| 2846|\n",
            "|   ne| 2697|\n",
            "|   dc| 2502|\n",
            "|   ak| 2169|\n",
            "|   mo| 2158|\n",
            "|   de| 2048|\n",
            "|   ri| 1889|\n",
            "|   hi| 1840|\n",
            "|   sd| 1782|\n",
            "|   nh| 1761|\n",
            "|   mt| 1339|\n",
            "|   wv|  819|\n",
            "|   vt|  527|\n",
            "|   me|  420|\n",
            "|   wy|  187|\n",
            "+-----+-----+\n",
            "\n"
          ]
        },
        {
          "output_type": "execute_result",
          "data": {
            "text/plain": [
              "51"
            ]
          },
          "metadata": {},
          "execution_count": 38
        }
      ]
    },
    {
      "cell_type": "markdown",
      "metadata": {
        "id": "6bppcK4N_sk_"
      },
      "source": [
        "### Analyse sur les attributs à valeurs discrètes "
      ]
    },
    {
      "cell_type": "markdown",
      "metadata": {
        "id": "HNCoDx-J3i1q"
      },
      "source": [
        "#### beds"
      ]
    },
    {
      "cell_type": "code",
      "metadata": {
        "colab": {
          "base_uri": "https://localhost:8080/"
        },
        "id": "U6oIPmn38VTi",
        "outputId": "25bf5f1b-d0b9-44d6-b532-65ac7b45109c"
      },
      "source": [
        "beds_distinct = housing.select('beds').groupby('beds').count().alias('count').withColumn(\"pourcentage\",pourcentage(\"count\")).orderBy('beds')\n",
        "beds_distinct.show()"
      ],
      "execution_count": null,
      "outputs": [
        {
          "output_type": "stream",
          "name": "stdout",
          "text": [
            "+----+------+-----------+\n",
            "|beds| count|pourcentage|\n",
            "+----+------+-----------+\n",
            "|   0| 10978|   2.851599|\n",
            "|   1|117226|   30.45013|\n",
            "|   2|175513|  45.590515|\n",
            "|   3| 67037|  17.413248|\n",
            "|   4| 11575|   3.006673|\n",
            "|   5|  2324| 0.60367244|\n",
            "|   6|   240| 0.06234139|\n",
            "|   7|    49|0.012728033|\n",
            "|   8|    31|0.008052429|\n",
            "|1000|     2|5.195116E-4|\n",
            "|1100|     2|5.195116E-4|\n",
            "+----+------+-----------+\n",
            "\n"
          ]
        }
      ]
    },
    {
      "cell_type": "code",
      "metadata": {
        "colab": {
          "base_uri": "https://localhost:8080/"
        },
        "id": "6is1KXeNNFf9",
        "outputId": "ed0de0ac-4564-47c2-e2c2-e3ad02f8e4af"
      },
      "source": [
        "outliers_autres(housing.select('beds')).distinct().orderBy('beds').show()"
      ],
      "execution_count": null,
      "outputs": [
        {
          "output_type": "stream",
          "name": "stdout",
          "text": [
            "bounds :  {'beds': {'q01': 0.0, 'q99': 4.0}}\n",
            "+----+--------+\n",
            "|beds|beds_out|\n",
            "+----+--------+\n",
            "|   0|       0|\n",
            "|   1|       0|\n",
            "|   2|       0|\n",
            "|   3|       0|\n",
            "|   4|       0|\n",
            "|   5|       1|\n",
            "|   6|       1|\n",
            "|   7|       1|\n",
            "|   8|       1|\n",
            "|1000|       1|\n",
            "|1100|       1|\n",
            "+----+--------+\n",
            "\n"
          ]
        }
      ]
    },
    {
      "cell_type": "markdown",
      "metadata": {
        "id": "0bjScH2ETRcs"
      },
      "source": [
        "Les valeurs supérieurs à 4 sont considérés comme étant des outliers mais en ayant du recul sur les données, avoir plus de 4 lits n'est pas un cas extrème. Ainsi, seulement les valeurs supérieurs à 8 (1000 et 1100) correspondront aux valeurs aberrantes.\n",
        "\n",
        "Nous envisagerons de retirer ces valeurs lors de l'implémentation de notre deuxième stratégie."
      ]
    },
    {
      "cell_type": "markdown",
      "metadata": {
        "id": "1ha8rEDr3j-0"
      },
      "source": [
        "#### baths"
      ]
    },
    {
      "cell_type": "code",
      "metadata": {
        "colab": {
          "base_uri": "https://localhost:8080/"
        },
        "id": "1q42Pcf59P2P",
        "outputId": "c9663f6e-f78b-49f9-bb7e-07215597b1e4"
      },
      "source": [
        "baths_distinct = housing.select('baths').groupby('baths').count().alias('count').withColumn(\"pourcentage\",pourcentage(\"count\")).orderBy('baths')\n",
        "baths_distinct.show()"
      ],
      "execution_count": null,
      "outputs": [
        {
          "output_type": "stream",
          "name": "stdout",
          "text": [
            "+-----+------+------------+\n",
            "|baths| count| pourcentage|\n",
            "+-----+------+------------+\n",
            "|  0.0|  3107|   0.8070612|\n",
            "|  1.0|198184|    51.47944|\n",
            "|  1.5| 27363|   7.1076975|\n",
            "|  2.0|134649|   34.975857|\n",
            "|  2.5| 13162|   3.4189055|\n",
            "|  3.0|  5549|   1.4413848|\n",
            "|  3.5|  1007|  0.26157406|\n",
            "|  4.0|  1495|   0.3883349|\n",
            "|  4.5|   231| 0.060003586|\n",
            "|  5.0|   131|  0.03402801|\n",
            "|  5.5|    57|  0.01480608|\n",
            "|  6.0|    26|  0.00675365|\n",
            "|  6.5|     4|0.0010390232|\n",
            "|  7.0|     4|0.0010390232|\n",
            "|  7.5|     2| 5.195116E-4|\n",
            "|  8.0|     1| 2.597558E-4|\n",
            "|  8.5|     1| 2.597558E-4|\n",
            "| 25.0|     1| 2.597558E-4|\n",
            "| 35.0|     1| 2.597558E-4|\n",
            "| 75.0|     2| 5.195116E-4|\n",
            "+-----+------+------------+\n",
            "\n"
          ]
        }
      ]
    },
    {
      "cell_type": "code",
      "metadata": {
        "colab": {
          "base_uri": "https://localhost:8080/"
        },
        "id": "gQ798-UQNWlu",
        "outputId": "8d89b22b-e416-42c1-c4f5-38b55f346964"
      },
      "source": [
        "outliers_autres(housing.select('baths')).distinct().orderBy('baths').show()"
      ],
      "execution_count": null,
      "outputs": [
        {
          "output_type": "stream",
          "name": "stdout",
          "text": [
            "bounds :  {'baths': {'q01': 1.0, 'q99': 3.0}}\n",
            "+-----+---------+\n",
            "|baths|baths_out|\n",
            "+-----+---------+\n",
            "|  0.0|        1|\n",
            "|  1.0|        0|\n",
            "|  1.5|        0|\n",
            "|  2.0|        0|\n",
            "|  2.5|        0|\n",
            "|  3.0|        0|\n",
            "|  3.5|        1|\n",
            "|  4.0|        1|\n",
            "|  4.5|        1|\n",
            "|  5.0|        1|\n",
            "|  5.5|        1|\n",
            "|  6.0|        1|\n",
            "|  6.5|        1|\n",
            "|  7.0|        1|\n",
            "|  7.5|        1|\n",
            "|  8.0|        1|\n",
            "|  8.5|        1|\n",
            "| 25.0|        1|\n",
            "| 35.0|        1|\n",
            "| 75.0|        1|\n",
            "+-----+---------+\n",
            "\n"
          ]
        }
      ]
    },
    {
      "cell_type": "markdown",
      "metadata": {
        "id": "PDANqqZQt_FK"
      },
      "source": [
        "\n",
        "Nous considerons donc les valeurs nulles et supérieurs à 3 comme étant des valeurs aberrantes.  \n",
        "\n",
        "Nous envisagerons de retirer ces valeurs lors de l'implémentation de notre deuxième stratégie."
      ]
    },
    {
      "cell_type": "markdown",
      "metadata": {
        "id": "vo-LJkT2lyJN"
      },
      "source": [
        "### Analyse sur les attributs à valeurs continues\n",
        "La fonction describe permet d'afficher des statistiques intéressante pour notre étude"
      ]
    },
    {
      "cell_type": "markdown",
      "metadata": {
        "id": "F9Wp_mOUCAme"
      },
      "source": [
        "#### Le prix\n",
        "\n"
      ]
    },
    {
      "cell_type": "code",
      "metadata": {
        "colab": {
          "base_uri": "https://localhost:8080/"
        },
        "id": "tj_hUovL6mFW",
        "outputId": "bd6a4ad5-6cc7-4d5c-852a-71ff651a1a3e"
      },
      "source": [
        "housing.describe('price').show()"
      ],
      "execution_count": null,
      "outputs": [
        {
          "output_type": "stream",
          "name": "stdout",
          "text": [
            "+-------+-----------------+\n",
            "|summary|            price|\n",
            "+-------+-----------------+\n",
            "|  count|           384977|\n",
            "|   mean|8825.722318476168|\n",
            "| stddev|4462199.876538977|\n",
            "|    min|                0|\n",
            "|    max|       2768307249|\n",
            "+-------+-----------------+\n",
            "\n"
          ]
        }
      ]
    },
    {
      "cell_type": "markdown",
      "metadata": {
        "id": "EgghRNeWackW"
      },
      "source": [
        "Nous remarquons que l'écart type est trop grand comparé à la moyenne. Cela prouve qu'il y a des valeurs abérantes qu'il faut supprimer.\n",
        "Pour avoir plus de détails, nous regardons la distribution des valeurs afin de comprendre l'origine de ces incohérences"
      ]
    },
    {
      "cell_type": "code",
      "metadata": {
        "colab": {
          "base_uri": "https://localhost:8080/"
        },
        "id": "kQfYbTaF6wG-",
        "outputId": "6820ec69-08a8-48af-8ae5-16ed0cd1950f"
      },
      "source": [
        "price_count = housing.select('price').groupby('price').count().alias('count').withColumnRenamed('count', 'res_count').orderBy(\"price\")\n",
        "price_count.show(10)\n",
        "price_count.count()"
      ],
      "execution_count": null,
      "outputs": [
        {
          "output_type": "stream",
          "name": "stdout",
          "text": [
            "+-----+---------+\n",
            "|price|res_count|\n",
            "+-----+---------+\n",
            "|    0|     1307|\n",
            "|    1|      731|\n",
            "|    2|        6|\n",
            "|    5|       19|\n",
            "|    8|        4|\n",
            "|    9|        1|\n",
            "|   10|        4|\n",
            "|   11|        2|\n",
            "|   14|        2|\n",
            "|   15|        1|\n",
            "+-----+---------+\n",
            "only showing top 10 rows\n",
            "\n"
          ]
        },
        {
          "output_type": "execute_result",
          "data": {
            "text/plain": [
              "3961"
            ]
          },
          "metadata": {},
          "execution_count": 44
        }
      ]
    },
    {
      "cell_type": "code",
      "metadata": {
        "colab": {
          "base_uri": "https://localhost:8080/"
        },
        "id": "d_MyT-7kd1iZ",
        "outputId": "0d2e29e2-0229-4002-839f-a53822f58a60"
      },
      "source": [
        "price_count = housing.select('price').groupby('price').count().alias('count').withColumnRenamed('count', 'res_count').orderBy( col(\"res_count\").desc())\n",
        "price_count.show(10)"
      ],
      "execution_count": null,
      "outputs": [
        {
          "output_type": "stream",
          "name": "stdout",
          "text": [
            "+-----+---------+\n",
            "|price|res_count|\n",
            "+-----+---------+\n",
            "|  750|     4207|\n",
            "|  850|     3998|\n",
            "|  800|     3993|\n",
            "| 1200|     3828|\n",
            "|  950|     3619|\n",
            "|  900|     3473|\n",
            "| 1000|     3162|\n",
            "| 1100|     3067|\n",
            "|  795|     3044|\n",
            "| 1250|     2980|\n",
            "+-----+---------+\n",
            "only showing top 10 rows\n",
            "\n"
          ]
        }
      ]
    },
    {
      "cell_type": "code",
      "metadata": {
        "colab": {
          "base_uri": "https://localhost:8080/"
        },
        "id": "nIB0E1hhR_Wr",
        "outputId": "014d57e5-e32e-474d-83bf-7ab5dc9ba208"
      },
      "source": [
        "price_count.orderBy(col('price').desc()).select('price', 'res_count').show()"
      ],
      "execution_count": null,
      "outputs": [
        {
          "output_type": "stream",
          "name": "stdout",
          "text": [
            "+----------+---------+\n",
            "|     price|res_count|\n",
            "+----------+---------+\n",
            "|2768307249|        1|\n",
            "|  21701907|        1|\n",
            "|  18502000|        2|\n",
            "|  12000000|        1|\n",
            "|  11621360|        1|\n",
            "|  10321189|        1|\n",
            "|   9001300|        1|\n",
            "|   8675301|        1|\n",
            "|   7955555|        1|\n",
            "|   7655765|        1|\n",
            "|   1800000|        1|\n",
            "|   1089000|        2|\n",
            "|    885000|        1|\n",
            "|    859864|        1|\n",
            "|    840865|        1|\n",
            "|    833848|        1|\n",
            "|    704873|        3|\n",
            "|    699799|        1|\n",
            "|    679710|       30|\n",
            "|    615751|        1|\n",
            "+----------+---------+\n",
            "only showing top 20 rows\n",
            "\n"
          ]
        }
      ]
    },
    {
      "cell_type": "code",
      "metadata": {
        "colab": {
          "base_uri": "https://localhost:8080/"
        },
        "id": "iA05G06MQW8A",
        "outputId": "2d479507-03de-4468-f1e3-c66f5e772b8d"
      },
      "source": [
        "outliers_autres(housing.select('price'))"
      ],
      "execution_count": null,
      "outputs": [
        {
          "output_type": "stream",
          "name": "stdout",
          "text": [
            "bounds :  {'price': {'q01': 344.0, 'q99': 3395.0}}\n"
          ]
        },
        {
          "output_type": "execute_result",
          "data": {
            "text/plain": [
              "DataFrame[price: bigint, price_out: int]"
            ]
          },
          "metadata": {},
          "execution_count": 47
        }
      ]
    },
    {
      "cell_type": "markdown",
      "metadata": {
        "id": "b4YJopJRXyzL"
      },
      "source": [
        "On sait que 99% des prix sont inférieurs à 3395. \n",
        "Voici la distribution des prix inférieurs à 3395."
      ]
    },
    {
      "cell_type": "code",
      "metadata": {
        "colab": {
          "base_uri": "https://localhost:8080/",
          "height": 350
        },
        "id": "m8x8nusS_EV_",
        "outputId": "cc5b8f8e-5ff8-47cc-ed30-af920c3699f9"
      },
      "source": [
        "prices_list = housing.where('price<3395.0').select('price').collect()\n",
        "price_data = np.array([int(row.price) for row in prices_list])\n",
        "plt.hist(price_data, bins = 10)"
      ],
      "execution_count": null,
      "outputs": [
        {
          "output_type": "execute_result",
          "data": {
            "text/plain": [
              "(array([  3836.,  42037., 140093.,  95310.,  52523.,  24229.,  10874.,\n",
              "          6669.,   3886.,   1661.]),\n",
              " array([   0. ,  339.4,  678.8, 1018.2, 1357.6, 1697. , 2036.4, 2375.8,\n",
              "        2715.2, 3054.6, 3394. ]),\n",
              " <a list of 10 Patch objects>)"
            ]
          },
          "metadata": {},
          "execution_count": 48
        },
        {
          "output_type": "display_data",
          "data": {
            "image/png": "[encoded data removed]",
            "text/plain": [
              "<Figure size 432x288 with 1 Axes>"
            ]
          },
          "metadata": {
            "needs_background": "light"
          }
        }
      ]
    },
    {
      "cell_type": "markdown",
      "metadata": {
        "id": "srnrnGJCgdPo"
      },
      "source": [
        "On ne peut pas représenter toutes les valeurs car certaines sont beaucoup trop grandes.\n",
        "Ces valeurs trop grandes, qui ont un nombre d'occurence negligeable,permettent d'expliquer la raison de l'écart type énorme constaté précedemment."
      ]
    },
    {
      "cell_type": "markdown",
      "metadata": {
        "id": "kX88epiEQvvG"
      },
      "source": [
        "Comme cette distribution n'est pas une distribution normale, nous nous intéressons aux centiles. Les outliers seront ainsi les prix inférieur à 344 et supérieur à 3395."
      ]
    },
    {
      "cell_type": "markdown",
      "metadata": {
        "id": "nFcRihtBXCrX"
      },
      "source": [
        "#### sqfeet"
      ]
    },
    {
      "cell_type": "code",
      "metadata": {
        "colab": {
          "base_uri": "https://localhost:8080/"
        },
        "id": "Dn5bDbxk52Oc",
        "outputId": "b23a2a66-bde8-4ee2-87a9-8070ac79e505"
      },
      "source": [
        "housing.describe('sqfeet').show()"
      ],
      "execution_count": null,
      "outputs": [
        {
          "output_type": "stream",
          "name": "stdout",
          "text": [
            "+-------+------------------+\n",
            "|summary|            sqfeet|\n",
            "+-------+------------------+\n",
            "|  count|            384977|\n",
            "|   mean| 1059.899565428584|\n",
            "| stddev|19150.757244214365|\n",
            "|    min|                 0|\n",
            "|    max|           8388607|\n",
            "+-------+------------------+\n",
            "\n"
          ]
        }
      ]
    },
    {
      "cell_type": "code",
      "metadata": {
        "colab": {
          "base_uri": "https://localhost:8080/"
        },
        "id": "59e3QCkGXxV4",
        "outputId": "c427028c-34ec-4dd2-c168-a9967d612abe"
      },
      "source": [
        "sqfeet_null = housing.select('*').filter(col('sqfeet').isNull()).count()\n",
        "print('Il y a', sqfeet_null, 'tuples avec une surface nulle.')"
      ],
      "execution_count": null,
      "outputs": [
        {
          "output_type": "stream",
          "name": "stdout",
          "text": [
            "Il y a 0 tuples avec une surface nulle.\n"
          ]
        }
      ]
    },
    {
      "cell_type": "code",
      "metadata": {
        "colab": {
          "base_uri": "https://localhost:8080/"
        },
        "id": "6RGGrwgEZlv2",
        "outputId": "a605292e-8e06-443b-a633-65036b7d7b5a"
      },
      "source": [
        "sqfeet_count = housing.select('sqfeet').groupby('sqfeet').count().alias('count').withColumnRenamed('count', 'res_count').orderBy(\"sqfeet\")\n",
        "sqfeet_count.show(10)\n",
        "sqfeet_count.count()"
      ],
      "execution_count": null,
      "outputs": [
        {
          "output_type": "stream",
          "name": "stdout",
          "text": [
            "+------+---------+\n",
            "|sqfeet|res_count|\n",
            "+------+---------+\n",
            "|     0|       48|\n",
            "|     1|      171|\n",
            "|     2|       27|\n",
            "|     3|        1|\n",
            "|     5|        4|\n",
            "|     6|        4|\n",
            "|     7|        4|\n",
            "|     8|        3|\n",
            "|     9|        1|\n",
            "|    10|       10|\n",
            "+------+---------+\n",
            "only showing top 10 rows\n",
            "\n"
          ]
        },
        {
          "output_type": "execute_result",
          "data": {
            "text/plain": [
              "3277"
            ]
          },
          "metadata": {},
          "execution_count": 52
        }
      ]
    },
    {
      "cell_type": "code",
      "metadata": {
        "colab": {
          "base_uri": "https://localhost:8080/"
        },
        "id": "GaTzW1CQuzqD",
        "outputId": "f8d0f06e-fb30-4b86-a9a7-cd3e71965fd0"
      },
      "source": [
        "sqfeet_count.select('*').orderBy(col('sqfeet').desc()).show()"
      ],
      "execution_count": null,
      "outputs": [
        {
          "output_type": "stream",
          "name": "stdout",
          "text": [
            "+-------+---------+\n",
            "| sqfeet|res_count|\n",
            "+-------+---------+\n",
            "|8388607|        1|\n",
            "|8000000|        1|\n",
            "|1019856|        2|\n",
            "| 999999|        4|\n",
            "| 775814|        1|\n",
            "| 174240|        1|\n",
            "|  99204|        1|\n",
            "|  99202|        1|\n",
            "|  95242|        1|\n",
            "|  95209|        1|\n",
            "|  92037|        1|\n",
            "|  77006|        1|\n",
            "|  72916|        1|\n",
            "|  63134|        1|\n",
            "|  51206|        1|\n",
            "|  50000|        5|\n",
            "|  48207|        1|\n",
            "|  46561|        1|\n",
            "|  46514|        1|\n",
            "|  46205|        1|\n",
            "+-------+---------+\n",
            "only showing top 20 rows\n",
            "\n"
          ]
        }
      ]
    },
    {
      "cell_type": "code",
      "metadata": {
        "colab": {
          "base_uri": "https://localhost:8080/"
        },
        "id": "e0CGuLCi5S8-",
        "outputId": "34edace6-607b-47b7-f27e-27b4d9269553"
      },
      "source": [
        "outliers_autres(housing.select('sqfeet'))"
      ],
      "execution_count": null,
      "outputs": [
        {
          "output_type": "stream",
          "name": "stdout",
          "text": [
            "bounds :  {'sqfeet': {'q01': 340.0, 'q99': 2405.0}}\n"
          ]
        },
        {
          "output_type": "execute_result",
          "data": {
            "text/plain": [
              "DataFrame[sqfeet: int, sqfeet_out: int]"
            ]
          },
          "metadata": {},
          "execution_count": 54
        }
      ]
    },
    {
      "cell_type": "markdown",
      "metadata": {
        "id": "ZLadXtuvtn-M"
      },
      "source": [
        "99% des valeurs de sqfeetsont inférieurs à 2405. \n",
        "\n",
        "Les outliers seront donc les surfaces inférieur à 340 et supérieurs à 2405."
      ]
    },
    {
      "cell_type": "code",
      "metadata": {
        "colab": {
          "base_uri": "https://localhost:8080/",
          "height": 350
        },
        "id": "JxB4xLg5tCFi",
        "outputId": "ffbdb6e7-9270-4c86-a47b-ce92c9297c1f"
      },
      "source": [
        "sqfeet_list = housing.where('sqfeet<2405.0').select('sqfeet').collect()\n",
        "sqfeet_data = np.array([int(row.sqfeet) for row in sqfeet_list])\n",
        "plt.hist(sqfeet_data, bins = 10)"
      ],
      "execution_count": null,
      "outputs": [
        {
          "output_type": "execute_result",
          "data": {
            "text/plain": [
              "(array([  1529.,  11490.,  69310., 123365., 103936.,  41299.,  16332.,\n",
              "          7237.,   4042.,   2585.]),\n",
              " array([   0. ,  240.4,  480.8,  721.2,  961.6, 1202. , 1442.4, 1682.8,\n",
              "        1923.2, 2163.6, 2404. ]),\n",
              " <a list of 10 Patch objects>)"
            ]
          },
          "metadata": {},
          "execution_count": 55
        },
        {
          "output_type": "display_data",
          "data": {
            "image/png": "[encoded data removed]",
            "text/plain": [
              "<Figure size 432x288 with 1 Axes>"
            ]
          },
          "metadata": {
            "needs_background": "light"
          }
        }
      ]
    },
    {
      "cell_type": "markdown",
      "metadata": {
        "id": "NAMKrsrwJ0hX"
      },
      "source": [
        "Nous remarquons que l'écart type pour sqfeet est aussi très grand par rapport à sa moyenne. Il y a des appartements avec de très grandes surfaces mais en petit nombre ( 15% d'appartements ont un sqfeet \\in [ 1150, 8,39 m] ). Ceci est cohérent avec l'observation faite sur les prix. Nous pourrions donc en déduire que la colonne sqfeet est très importante pour la prédiction des prix"
      ]
    },
    {
      "cell_type": "markdown",
      "metadata": {
        "id": "9fuqSopldCjT"
      },
      "source": [
        "#### latitude"
      ]
    },
    {
      "cell_type": "code",
      "metadata": {
        "colab": {
          "base_uri": "https://localhost:8080/"
        },
        "id": "Pnpu9fDkc-LJ",
        "outputId": "38a7569e-5d4d-45e4-e9e5-c59b44365c75"
      },
      "source": [
        "housing.describe('lat').show()"
      ],
      "execution_count": null,
      "outputs": [
        {
          "output_type": "stream",
          "name": "stdout",
          "text": [
            "+-------+-----------------+\n",
            "|summary|              lat|\n",
            "+-------+-----------------+\n",
            "|  count|           383059|\n",
            "|   mean|37.23348675754795|\n",
            "| stddev|5.546171140040916|\n",
            "|    min|         -43.5333|\n",
            "|    max|          102.036|\n",
            "+-------+-----------------+\n",
            "\n"
          ]
        }
      ]
    },
    {
      "cell_type": "code",
      "metadata": {
        "colab": {
          "base_uri": "https://localhost:8080/"
        },
        "id": "4zclRBxyeS1R",
        "outputId": "53300b7b-0662-40c7-a33b-80438eef9278"
      },
      "source": [
        "lat_count = housing.select('lat').groupby('lat').count().alias('count').withColumnRenamed('count', 'res_count')\n",
        "lat_count.show()"
      ],
      "execution_count": null,
      "outputs": [
        {
          "output_type": "stream",
          "name": "stdout",
          "text": [
            "+------------------+---------+\n",
            "|               lat|res_count|\n",
            "+------------------+---------+\n",
            "|           39.5026|        3|\n",
            "|           39.6185|       10|\n",
            "|           39.5393|      167|\n",
            "|           39.6412|        6|\n",
            "|           39.5268|       33|\n",
            "|           39.5094|        1|\n",
            "|           39.5466|        1|\n",
            "|           39.5643|       20|\n",
            "|           39.5263|       24|\n",
            "|           39.3826|        5|\n",
            "|           39.6365|        5|\n",
            "|             39.59|        1|\n",
            "|39.525999999999996|        5|\n",
            "|           39.5433|        1|\n",
            "|           34.4268|        2|\n",
            "|           39.6184|       11|\n",
            "|           39.2637|        2|\n",
            "|           39.2025|        5|\n",
            "|           39.3385|       82|\n",
            "|           34.4197|       18|\n",
            "+------------------+---------+\n",
            "only showing top 20 rows\n",
            "\n"
          ]
        }
      ]
    },
    {
      "cell_type": "code",
      "metadata": {
        "colab": {
          "base_uri": "https://localhost:8080/"
        },
        "id": "l5wmX1s-encW",
        "outputId": "aba48a68-ffc1-4aac-c382-7d81d7be0d50"
      },
      "source": [
        "lat_count = housing.select('lat').groupby('lat').count().alias('count').withColumnRenamed('count', 'res_count').withColumn(\"pourcentage\",pourcentage(\"res_count\")).orderBy(col('res_count').desc())\n",
        "lat_count.show()"
      ],
      "execution_count": null,
      "outputs": [
        {
          "output_type": "stream",
          "name": "stdout",
          "text": [
            "+-------+---------+-----------+\n",
            "|    lat|res_count|pourcentage|\n",
            "+-------+---------+-----------+\n",
            "|   null|     1918|  0.4982116|\n",
            "|29.8754|     1325|  0.3441764|\n",
            "|32.4779|      780| 0.20260951|\n",
            "|39.4242|      757| 0.19663513|\n",
            "|35.1653|      679| 0.17637417|\n",
            "|30.3659|      628| 0.16312663|\n",
            "|32.1149|      603| 0.15663274|\n",
            "|46.8394|      596| 0.15481444|\n",
            "|36.9745|      595|  0.1545547|\n",
            "|33.3755|      588|  0.1527364|\n",
            "|36.0036|      560| 0.14546323|\n",
            "|31.5789|      532| 0.13819008|\n",
            "|30.2007|      532| 0.13819008|\n",
            "|38.4586|      529|  0.1374108|\n",
            "|33.7377|      518| 0.13455349|\n",
            "|32.3055|      515| 0.13377422|\n",
            "|39.0119|      511| 0.13273521|\n",
            "|33.9761|      502|  0.1303974|\n",
            "|27.2889|      491| 0.12754008|\n",
            "|31.8552|      483| 0.12546204|\n",
            "+-------+---------+-----------+\n",
            "only showing top 20 rows\n",
            "\n"
          ]
        }
      ]
    },
    {
      "cell_type": "markdown",
      "metadata": {
        "id": "yu-TwZSJeGfo"
      },
      "source": [
        "#### longitude"
      ]
    },
    {
      "cell_type": "code",
      "metadata": {
        "colab": {
          "base_uri": "https://localhost:8080/"
        },
        "id": "kHk-lQjzeltl",
        "outputId": "d4e76c25-0a07-4794-aa0e-e96823148603"
      },
      "source": [
        "housing.describe('long').show()"
      ],
      "execution_count": null,
      "outputs": [
        {
          "output_type": "stream",
          "name": "stdout",
          "text": [
            "+-------+------------------+\n",
            "|summary|              long|\n",
            "+-------+------------------+\n",
            "|  count|            383059|\n",
            "|   mean|-92.70063093006361|\n",
            "| stddev|16.531980066424797|\n",
            "|    min|          -163.894|\n",
            "|    max|172.63299999999998|\n",
            "+-------+------------------+\n",
            "\n"
          ]
        }
      ]
    },
    {
      "cell_type": "code",
      "metadata": {
        "colab": {
          "base_uri": "https://localhost:8080/"
        },
        "id": "r5rIq4-VvZEX",
        "outputId": "27257d34-2deb-4930-e3b5-9175127be8ef"
      },
      "source": [
        "long_count = housing.select('long').groupby('long').count().alias('count').withColumnRenamed('count', 'res_count').orderBy(col('res_count').desc())\n",
        "long_count.show()"
      ],
      "execution_count": null,
      "outputs": [
        {
          "output_type": "stream",
          "name": "stdout",
          "text": [
            "+-------------------+---------+\n",
            "|               long|res_count|\n",
            "+-------------------+---------+\n",
            "|               null|     1918|\n",
            "|           -97.9404|     1313|\n",
            "|            -84.898|      779|\n",
            "|           -77.4597|      742|\n",
            "|           -101.884|      656|\n",
            "|           -90.2309|      638|\n",
            "|           -86.2458|      629|\n",
            "|            -81.252|      603|\n",
            "|-100.78399999999999|      602|\n",
            "|           -86.4199|      595|\n",
            "|           -86.8045|      584|\n",
            "|           -80.0036|      560|\n",
            "|           -77.4306|      529|\n",
            "|           -85.8136|      528|\n",
            "|           -78.9787|      518|\n",
            "|           -84.2118|      513|\n",
            "|           -95.7151|      511|\n",
            "|            -80.298|      491|\n",
            "|           -106.435|      483|\n",
            "|           -104.704|      472|\n",
            "+-------------------+---------+\n",
            "only showing top 20 rows\n",
            "\n"
          ]
        }
      ]
    },
    {
      "cell_type": "code",
      "metadata": {
        "colab": {
          "base_uri": "https://localhost:8080/"
        },
        "id": "jnVV2UUHayzR",
        "outputId": "c66b0418-f68d-4134-f5bc-bd4b819027aa"
      },
      "source": [
        "housing.where(col(\"long\").isNull() & col('lat').isNull()).count()"
      ],
      "execution_count": null,
      "outputs": [
        {
          "output_type": "execute_result",
          "data": {
            "text/plain": [
              "1918"
            ]
          },
          "metadata": {},
          "execution_count": 61
        }
      ]
    },
    {
      "cell_type": "markdown",
      "metadata": {
        "id": "1jhFB-aXvnI7"
      },
      "source": [
        "On peut remarquer que les valeurs de lat et long sont nulles pour les mêmes tuples : 1918 étant négligeable par rapport au nombre total de tuple, nous pourrons envisager de les supprimer lors de la deuxième stratégie."
      ]
    },
    {
      "cell_type": "markdown",
      "metadata": {
        "id": "WFkjRbvxawod"
      },
      "source": [
        "### Les liens et la description\n"
      ]
    },
    {
      "cell_type": "code",
      "metadata": {
        "colab": {
          "base_uri": "https://localhost:8080/"
        },
        "id": "LddLttzoi1EM",
        "outputId": "4b0e97bf-8191-4fb9-ebe2-da7ae00c68e6"
      },
      "source": [
        "housing.select('id').distinct().count()"
      ],
      "execution_count": null,
      "outputs": [
        {
          "output_type": "execute_result",
          "data": {
            "text/plain": [
              "384977"
            ]
          },
          "metadata": {},
          "execution_count": 62
        }
      ]
    },
    {
      "cell_type": "code",
      "metadata": {
        "colab": {
          "base_uri": "https://localhost:8080/"
        },
        "id": "JAa9Oxgw4ghO",
        "outputId": "0c03536f-af54-488e-ab04-4c94d9859ed1"
      },
      "source": [
        "housing.select('url').distinct().count()"
      ],
      "execution_count": null,
      "outputs": [
        {
          "output_type": "execute_result",
          "data": {
            "text/plain": [
              "384977"
            ]
          },
          "metadata": {},
          "execution_count": 63
        }
      ]
    },
    {
      "cell_type": "markdown",
      "metadata": {
        "id": "eR1rUVd7i53R"
      },
      "source": [
        "On remarque qu'il y a autant d'url que de tuples, ainsi l'attribut url n'est pas pertinent, il ne permet pas de différencier des tuples, tout comme l'attribut id."
      ]
    },
    {
      "cell_type": "code",
      "metadata": {
        "colab": {
          "base_uri": "https://localhost:8080/"
        },
        "id": "r8R0xNp5ULjf",
        "outputId": "d4bdb1eb-3143-4483-9001-974c0b0cf0ca"
      },
      "source": [
        "housing.select('region_url').distinct().count()"
      ],
      "execution_count": null,
      "outputs": [
        {
          "output_type": "execute_result",
          "data": {
            "text/plain": [
              "413"
            ]
          },
          "metadata": {},
          "execution_count": 64
        }
      ]
    },
    {
      "cell_type": "markdown",
      "metadata": {
        "id": "ZpLivANryEc1"
      },
      "source": [
        "Ne donne pas plus d'information que la colonne region."
      ]
    },
    {
      "cell_type": "markdown",
      "metadata": {
        "id": "Js8KXl8fyNrm"
      },
      "source": [
        "De plus, nous ne considérons pas les colonnes image_url et descriptions car son information est complexe et nécessite un traitement pour en extraire l'information pertinente (image et texte).\n"
      ]
    },
    {
      "cell_type": "markdown",
      "metadata": {
        "id": "HeO2cygxzOQg"
      },
      "source": [
        "## Régression par arbres de décision"
      ]
    },
    {
      "cell_type": "markdown",
      "metadata": {
        "id": "vQq8sNutzTJj"
      },
      "source": [
        "Maintenant que nous avons analyser nos données, nous allons essayer de prédire le prix d'une maison aux Etats-Unis en fonction de certains attributs."
      ]
    },
    {
      "cell_type": "code",
      "metadata": {
        "id": "AoVW4Rxez7P1"
      },
      "source": [
        "from pyspark.ml.feature import StringIndexer\n",
        "from pyspark.ml.feature import VectorAssembler\n",
        "from pyspark.ml.feature import VectorIndexer\n",
        "from pyspark.ml import Pipeline"
      ],
      "execution_count": null,
      "outputs": []
    },
    {
      "cell_type": "code",
      "metadata": {
        "id": "ZSK0P3HBz-Rr"
      },
      "source": [
        "from pyspark.ml.regression import DecisionTreeRegressionModel\n",
        "from  pyspark.ml.regression import DecisionTreeRegressor"
      ],
      "execution_count": null,
      "outputs": []
    },
    {
      "cell_type": "code",
      "metadata": {
        "id": "Vg3nSHtBVaE8"
      },
      "source": [
        "from pyspark.ml.tuning import CrossValidator, ParamGridBuilder\n",
        "from pyspark.ml.evaluation import RegressionEvaluator"
      ],
      "execution_count": null,
      "outputs": []
    },
    {
      "cell_type": "markdown",
      "metadata": {
        "id": "HsFN_MUtzagU"
      },
      "source": [
        "### Baseline"
      ]
    },
    {
      "cell_type": "markdown",
      "metadata": {
        "id": "wlJP5dEMzqTf"
      },
      "source": [
        "Nous avons besoin de référence simple pour savoir si notre modèle apprend bien, autrement dit, si les résultats obtenus sont bons. Pour cela, nous allons comparer notre modèle à la baseline suivante :\n",
        "- les colonnes id, url, region_url et descriptions ne sont pas prises en compte\n",
        "- les null sont gardés "
      ]
    },
    {
      "cell_type": "code",
      "metadata": {
        "id": "peuBeSYaUg-M"
      },
      "source": [
        "#Les features qui sont des chaines de caractères\n",
        "features_str = ['region', 'type', 'laundry_options', 'parking_options', 'state']\n",
        "\n",
        "#Les noms des features de type String après leur transformations \n",
        "prefix = \"indexed_\"\n",
        "features_col_indexed = list(map(lambda c:prefix+c, features_str))\n",
        "\n",
        "#Indexation des valeurs des attributs de features_str\n",
        "#les null sont gardés\n",
        "string_indexer = StringIndexer(inputCols=features_str, outputCols=features_col_indexed, handleInvalid='keep')\n",
        "\n",
        "#Le nom des colonnes indéxées ainsi que les autres features\n",
        "cols = ['indexed_region',\n",
        "        'indexed_type',\n",
        "        'sqfeet', 'beds', 'baths', 'cats_allowed',\n",
        "        'dogs_allowed', 'smoking_allowed', 'wheelchair_access',\n",
        "        'electric_vehicle_charge','comes_furnished',\n",
        "        'indexed_laundry_options',\n",
        "        'indexed_parking_options',\n",
        "        'lat', 'long',\n",
        "        'indexed_state']\n",
        "\n",
        "#Concatenation des valeurs dans un vecteur\n",
        "vec_assembler = VectorAssembler(inputCols= cols, outputCol= 'vector', handleInvalid = \"keep\")\n",
        "\n",
        "#Discrinination des valeurs continues et catégorielles et indexation de celles-ci \n",
        "vec_indexer = VectorIndexer(maxCategories=404, inputCol='vector',outputCol='features', handleInvalid='keep')"
      ],
      "execution_count": null,
      "outputs": []
    },
    {
      "cell_type": "code",
      "metadata": {
        "colab": {
          "base_uri": "https://localhost:8080/"
        },
        "id": "f7Bm3V0poJ-u",
        "outputId": "ec543e18-069c-4742-8b4b-5cd58fa7d753"
      },
      "source": [
        "#Définition de la pipeline\n",
        "stages = [string_indexer, vec_assembler, vec_indexer]\n",
        "pipeline = Pipeline(stages = stages)\n",
        "\n",
        "#Application de la pipeline\n",
        "data = pipeline.fit(housing).transform(housing)\n",
        "data.select(\"features\", \"price\").orderBy('price').show()"
      ],
      "execution_count": null,
      "outputs": [
        {
          "output_type": "stream",
          "name": "stdout",
          "text": [
            "+--------------------+-----+\n",
            "|            features|price|\n",
            "+--------------------+-----+\n",
            "|[19.0,0.0,650.0,1...|    0|\n",
            "|[19.0,0.0,650.0,1...|    0|\n",
            "|[330.0,0.0,954.0,...|    0|\n",
            "|[19.0,0.0,650.0,1...|    0|\n",
            "|[71.0,0.0,850.0,1...|    0|\n",
            "|[71.0,0.0,850.0,1...|    0|\n",
            "|[71.0,0.0,706.0,1...|    0|\n",
            "|(16,[0,2,3,4,7,11...|    0|\n",
            "|(16,[0,2,3,4,7,11...|    0|\n",
            "|(16,[0,2,3,4,7,11...|    0|\n",
            "|[19.0,0.0,650.0,1...|    0|\n",
            "|[71.0,0.0,1007.0,...|    0|\n",
            "|[19.0,0.0,650.0,1...|    0|\n",
            "|(16,[0,2,3,4,7,11...|    0|\n",
            "|[19.0,0.0,650.0,1...|    0|\n",
            "|[71.0,0.0,1152.0,...|    0|\n",
            "|[19.0,0.0,650.0,1...|    0|\n",
            "|[71.0,0.0,850.0,1...|    0|\n",
            "|[19.0,0.0,1.0,1.0...|    0|\n",
            "|[71.0,0.0,706.0,1...|    0|\n",
            "+--------------------+-----+\n",
            "only showing top 20 rows\n",
            "\n"
          ]
        }
      ]
    },
    {
      "cell_type": "markdown",
      "metadata": {
        "id": "_5llDVWbKbzd"
      },
      "source": [
        "### D'autres modèles"
      ]
    },
    {
      "cell_type": "markdown",
      "metadata": {
        "id": "4YFn9pBC1RN9"
      },
      "source": [
        "Nous allons maintenant essayer d'améliorer notre baseline."
      ]
    },
    {
      "cell_type": "markdown",
      "metadata": {
        "id": "hW7l3p1T1fX6"
      },
      "source": [
        "#### Pré-traitements"
      ]
    },
    {
      "cell_type": "markdown",
      "metadata": {
        "id": "F3O2iosoiQvB"
      },
      "source": [
        "##### Les valeurs nulles"
      ]
    },
    {
      "cell_type": "markdown",
      "metadata": {
        "id": "PBF4zpwmhh8s"
      },
      "source": [
        "Les attributs qui possèdent des valeurs nulles sont : \n",
        "- laundry_options (20,5%)\n",
        "- parking_options (36,5%)\n",
        "- lat (0,5%)\n",
        "- long (0,5%)\n",
        "\n",
        "(Sachant que les 0,5% de lat et long représentent les mêmes tuples)"
      ]
    },
    {
      "cell_type": "markdown",
      "metadata": {
        "id": "JHHne1Nxgk9I"
      },
      "source": [
        "Il est raisonnable de retirer les tuples dont la longitude et la latitude sont nulles et ne pas conserver les colonnes laundry_options et parking_options."
      ]
    },
    {
      "cell_type": "code",
      "metadata": {
        "id": "ADZaU7ZLggcU"
      },
      "source": [
        "housing_prep = housing.select(\n",
        " 'region',\n",
        " 'price',\n",
        " 'type',\n",
        " 'sqfeet',\n",
        " 'beds',\n",
        " 'baths',\n",
        " 'cats_allowed',\n",
        " 'dogs_allowed',\n",
        " 'smoking_allowed',\n",
        " 'wheelchair_access',\n",
        " 'electric_vehicle_charge',\n",
        " 'comes_furnished',\n",
        " 'lat',\n",
        " 'long',\n",
        " 'state').where(col('lat').isNotNull() & col('long').isNotNull())"
      ],
      "execution_count": null,
      "outputs": []
    },
    {
      "cell_type": "code",
      "metadata": {
        "colab": {
          "base_uri": "https://localhost:8080/"
        },
        "id": "ZRb878mh2JOt",
        "outputId": "6a282f23-c298-4437-e702-dd87e3465519"
      },
      "source": [
        "housing_prep.count()"
      ],
      "execution_count": null,
      "outputs": [
        {
          "output_type": "execute_result",
          "data": {
            "text/plain": [
              "383059"
            ]
          },
          "metadata": {},
          "execution_count": 11
        }
      ]
    },
    {
      "cell_type": "code",
      "metadata": {
        "colab": {
          "base_uri": "https://localhost:8080/"
        },
        "id": "CXeqnw1y2AFk",
        "outputId": "290833cc-b748-4eb2-84b7-d3d21ea0ec0c"
      },
      "source": [
        "tuples_null = housing_prep.dropna().count()\n",
        "tuples_null"
      ],
      "execution_count": null,
      "outputs": [
        {
          "output_type": "execute_result",
          "data": {
            "text/plain": [
              "383059"
            ]
          },
          "metadata": {},
          "execution_count": 12
        }
      ]
    },
    {
      "cell_type": "markdown",
      "metadata": {
        "id": "32nSuze42PC0"
      },
      "source": [
        "Notre base de données ne contient plus de valeurs nulles."
      ]
    },
    {
      "cell_type": "markdown",
      "metadata": {
        "id": "xi8H841xieaO"
      },
      "source": [
        "##### Les valeurs aberrantes"
      ]
    },
    {
      "cell_type": "markdown",
      "metadata": {
        "id": "5yQnkYmcitcx"
      },
      "source": [
        "Dans cette partie, nous allons nous intéresser aux valeurs aberrantes des attributs beds, baths, price et sqfeet.\n",
        "\n",
        "Par ailleurs, ne pensons pas que la notion de outliers a du sens pour des coordonnées GPS (lat et long).\n",
        "\n",
        "Nous ne nous intéressons pas aux autres attributs car les valeurs sont de types booléennes ou catégorielles."
      ]
    },
    {
      "cell_type": "markdown",
      "metadata": {
        "id": "nz4cDtorwetS"
      },
      "source": [
        "Comme dit précédemment :    \n",
        "- beds : outliers si inférieur à 8  \n",
        "- baths : outliers si inférieur à 1 et supérieur à 3\n",
        "- price : outliers si inférieur à 344 et supérieur à 3395\n",
        "- sqfeet : outliers si inférieur à 340 et supérieur à 2405"
      ]
    },
    {
      "cell_type": "code",
      "metadata": {
        "colab": {
          "base_uri": "https://localhost:8080/"
        },
        "id": "IoDkRJyk2Y6m",
        "outputId": "3f8d1d47-e165-4207-bf33-9aac9b1e9a88"
      },
      "source": [
        "housing_prep = housing_prep.select('*').where('beds<=8')\n",
        "housing_prep.count()"
      ],
      "execution_count": null,
      "outputs": [
        {
          "output_type": "execute_result",
          "data": {
            "text/plain": [
              "383055"
            ]
          },
          "metadata": {},
          "execution_count": 13
        }
      ]
    },
    {
      "cell_type": "code",
      "metadata": {
        "colab": {
          "base_uri": "https://localhost:8080/"
        },
        "id": "8wuZBtInUexR",
        "outputId": "79d351a0-14c0-4b09-e16a-d7bafa52861c"
      },
      "source": [
        "housing_prep = housing_prep.filter(col(\"baths\").between(1,3))\n",
        "housing_prep.count()"
      ],
      "execution_count": null,
      "outputs": [
        {
          "output_type": "execute_result",
          "data": {
            "text/plain": [
              "377034"
            ]
          },
          "metadata": {},
          "execution_count": 14
        }
      ]
    },
    {
      "cell_type": "code",
      "metadata": {
        "colab": {
          "base_uri": "https://localhost:8080/"
        },
        "id": "tob4W-8F9nez",
        "outputId": "765c72d0-a258-480e-cb83-f1fcef11313b"
      },
      "source": [
        "housing_prep = housing_prep.filter(col(\"price\").between(344,3395))\n",
        "housing_prep.count()"
      ],
      "execution_count": null,
      "outputs": [
        {
          "output_type": "execute_result",
          "data": {
            "text/plain": [
              "369936"
            ]
          },
          "metadata": {},
          "execution_count": 15
        }
      ]
    },
    {
      "cell_type": "code",
      "metadata": {
        "colab": {
          "base_uri": "https://localhost:8080/"
        },
        "id": "RHaV9z5V5Dz1",
        "outputId": "504dd4da-d6bc-4286-9953-fb7911d37165"
      },
      "source": [
        "housing_prep = housing_prep.select('*').filter(col('sqfeet').between(340, 2405))\n",
        "housing_prep.count()"
      ],
      "execution_count": null,
      "outputs": [
        {
          "output_type": "execute_result",
          "data": {
            "text/plain": [
              "364446"
            ]
          },
          "metadata": {},
          "execution_count": 16
        }
      ]
    },
    {
      "cell_type": "markdown",
      "metadata": {
        "id": "RlxjZzLTZO4P"
      },
      "source": [
        "##### Encodage des données"
      ]
    },
    {
      "cell_type": "code",
      "metadata": {
        "id": "_9epzqg65RAX",
        "colab": {
          "base_uri": "https://localhost:8080/"
        },
        "outputId": "d73cc735-64e6-4944-cf8a-2362b7e37d66"
      },
      "source": [
        "#Les features qui sont des chaines de caractères\n",
        "features_str = ['region', 'type', 'state']\n",
        "\n",
        "#Les noms des features de type String après leur transformations \n",
        "prefix = \"indexed_\"\n",
        "features_col_indexed = list(map(lambda c:prefix+c, features_str))\n",
        "\n",
        "#Indexation des valeurs des attributs de features_str\n",
        "#les null sont gardés\n",
        "string_indexer = StringIndexer(inputCols=features_str, outputCols=features_col_indexed, handleInvalid='keep')\n",
        "\n",
        "#Le nom des colonnes indéxées ainsi que les autres features\n",
        "cols = ['indexed_region',\n",
        "        'indexed_type',\n",
        "        'sqfeet', 'beds', 'baths', 'cats_allowed',\n",
        "        'dogs_allowed', 'smoking_allowed', 'wheelchair_access',\n",
        "        'electric_vehicle_charge','comes_furnished',\n",
        "        'lat', 'long',\n",
        "        'indexed_state']\n",
        "\n",
        "#Concatenation des valeurs dans un vecteur\n",
        "vec_assembler = VectorAssembler(inputCols= cols, outputCol= 'vector', handleInvalid = \"keep\")\n",
        "\n",
        "#Discrinination des valeurs continues et catégorielles et indexation de celles-ci \n",
        "vec_indexer = VectorIndexer(maxCategories=404, inputCol='vector',outputCol='features', handleInvalid='keep')\n",
        "\n",
        "#Définition de la pipeline\n",
        "stages = [string_indexer, vec_assembler, vec_indexer]\n",
        "pipeline = Pipeline(stages = stages)\n",
        "\n",
        "#Application de la pipeline\n",
        "data_prep = pipeline.fit(housing_prep).transform(housing_prep)\n",
        "data_prep.select(\"features\", \"price\").orderBy('price').show()"
      ],
      "execution_count": null,
      "outputs": [
        {
          "output_type": "stream",
          "name": "stdout",
          "text": [
            "+--------------------+-----+\n",
            "|            features|price|\n",
            "+--------------------+-----+\n",
            "|(14,[0,1,2,4,7,11...|  344|\n",
            "|[3.0,1.0,1266.0,3...|  344|\n",
            "|(14,[0,2,3,4,10,1...|  344|\n",
            "|[3.0,1.0,1266.0,3...|  344|\n",
            "|(14,[0,1,2,4,7,11...|  344|\n",
            "|(14,[0,2,3,4,11,1...|  345|\n",
            "|(14,[0,2,3,4,11,1...|  345|\n",
            "|(14,[0,2,3,4,11,1...|  345|\n",
            "|(14,[0,1,2,3,4,11...|  345|\n",
            "|(14,[0,2,3,4,11,1...|  345|\n",
            "|[3.0,5.0,500.0,2....|  345|\n",
            "|[128.0,1.0,2000.0...|  345|\n",
            "|(14,[0,2,3,4,11,1...|  345|\n",
            "|[266.0,0.0,1072.0...|  345|\n",
            "|(14,[0,2,3,4,7,11...|  345|\n",
            "|[32.0,0.0,1526.0,...|  346|\n",
            "|(14,[0,2,4,7,11,1...|  348|\n",
            "|(14,[0,2,3,4,7,11...|  349|\n",
            "|(14,[0,2,3,4,7,11...|  349|\n",
            "|(14,[0,2,3,4,7,11...|  349|\n",
            "+--------------------+-----+\n",
            "only showing top 20 rows\n",
            "\n"
          ]
        }
      ]
    },
    {
      "cell_type": "markdown",
      "metadata": {
        "id": "Q3zqrUfdYfK8"
      },
      "source": [
        "##### Selection d'attributs"
      ]
    },
    {
      "cell_type": "markdown",
      "metadata": {
        "id": "w3dFPlxeTWan"
      },
      "source": [
        "PCA (Analyse en composantes principales) est un algorithme statistique qui permet de trouver un sous-espace vectoriel de nos données tout en minimisant la perte d'information, autrement dit, PCA permet de réduire la dimension de nos données tout en gardant le maximun d'information.\n",
        "\n",
        "Nous allons utiliser PCA pour trouver les attributs les plus importants pour prédire le prix."
      ]
    },
    {
      "cell_type": "code",
      "metadata": {
        "id": "BGoyIgmDZm68"
      },
      "source": [
        "from pyspark.ml.feature import PCA"
      ],
      "execution_count": null,
      "outputs": []
    },
    {
      "cell_type": "code",
      "metadata": {
        "id": "Lkv_8lSlaMfp"
      },
      "source": [
        "pca = PCA(k=10, inputCol='features')\n",
        "model_pca = pca.fit(data_prep)"
      ],
      "execution_count": null,
      "outputs": []
    },
    {
      "cell_type": "code",
      "metadata": {
        "colab": {
          "base_uri": "https://localhost:8080/"
        },
        "id": "9y9j7KdNbUbU",
        "outputId": "8bbc6c1b-a4da-4a5a-c1b5-916263078313"
      },
      "source": [
        "model_pca.explainedVariance"
      ],
      "execution_count": null,
      "outputs": [
        {
          "output_type": "execute_result",
          "data": {
            "text/plain": [
              "DenseVector([0.942, 0.0537, 0.0026, 0.0014, 0.0002, 0.0, 0.0, 0.0, 0.0, 0.0])"
            ]
          },
          "metadata": {},
          "execution_count": 90
        }
      ]
    },
    {
      "cell_type": "markdown",
      "metadata": {
        "id": "WleKURddUQJm"
      },
      "source": [
        "On peut observer que 5 variables possèdent 100% de l'information. On va alors à nouveau appliquer PCA avec k=5 pour récupérer les features."
      ]
    },
    {
      "cell_type": "code",
      "metadata": {
        "colab": {
          "base_uri": "https://localhost:8080/"
        },
        "id": "qiQy7PGLcfJY",
        "outputId": "ba112d8b-1fdc-405d-be46-08abef1068bb"
      },
      "source": [
        "pca = PCA(k=5, inputCol='features')\n",
        "pca.setOutputCol('pca_output')\n",
        "model_pca = pca.fit(data_prep).transform(data_prep)\n",
        "features_pca = model_pca.select('pca_output', 'price')\n",
        "features_pca.show()"
      ],
      "execution_count": null,
      "outputs": [
        {
          "output_type": "stream",
          "name": "stdout",
          "text": [
            "+--------------------+-----+\n",
            "|          pca_output|price|\n",
            "+--------------------+-----+\n",
            "|[-1077.8972601614...| 1148|\n",
            "|[-1000.9076406175...| 1200|\n",
            "|[-1682.8170943371...| 1813|\n",
            "|[-707.93672622707...| 1095|\n",
            "|[-719.93515319749...| 1093|\n",
            "|[-660.94272382000...|  935|\n",
            "|[-707.93672622707...| 1095|\n",
            "|[-1052.8990107304...| 1525|\n",
            "|[-929.91641252616...| 1295|\n",
            "|[-719.93531039874...| 1086|\n",
            "|[-1180.8835702733...| 1159|\n",
            "|[-765.92937784379...| 1349|\n",
            "|[-763.92972645954...| 1449|\n",
            "|[-950.91173020467...| 1295|\n",
            "|[-918.91585012208...|  982|\n",
            "|[-1192.8804102887...| 1895|\n",
            "|[-1191.8807111683...| 1495|\n",
            "|[-1599.8308799885...| 1899|\n",
            "|[-889.91963191249...| 1075|\n",
            "|[-1449.8468018365...| 1495|\n",
            "+--------------------+-----+\n",
            "only showing top 20 rows\n",
            "\n"
          ]
        }
      ]
    },
    {
      "cell_type": "markdown",
      "metadata": {
        "id": "dwL_Pre_W2FQ"
      },
      "source": [
        "### Evaluation des modèles"
      ]
    },
    {
      "cell_type": "markdown",
      "metadata": {
        "id": "9JKT83d9-eF8"
      },
      "source": [
        "#### La loss et gridSearch"
      ]
    },
    {
      "cell_type": "markdown",
      "metadata": {
        "id": "TMeKmWs-Cfws"
      },
      "source": [
        "La loss utilisé est la rmse."
      ]
    },
    {
      "cell_type": "code",
      "metadata": {
        "id": "iBFu9jVq-cJP"
      },
      "source": [
        "rmse_evaluator = RegressionEvaluator(predictionCol=\"prediction\",\n",
        "                 labelCol=\"price\",metricName=\"rmse\")"
      ],
      "execution_count": null,
      "outputs": []
    },
    {
      "cell_type": "markdown",
      "metadata": {
        "id": "meON7oCWCi8t"
      },
      "source": [
        "Nous allons faire varier deux paramètres dans notre gridSearch :    \n",
        "- la profondeur maximale de l'arbre\n",
        "- le nombre d'instance minimale par noeud"
      ]
    },
    {
      "cell_type": "code",
      "metadata": {
        "id": "FJTGEzMm-zvJ"
      },
      "source": [
        "#Création de l'arbre de décision pour la régression\n",
        "dt = DecisionTreeRegressor(featuresCol='features', labelCol='price', predictionCol='prediction', maxBins=404)\n",
        "\n",
        "#Les paramètres\n",
        "dt_paramGrid = ParamGridBuilder()\\\n",
        ".addGrid(dt.maxDepth, [3,4,5,6,7,8])\\\n",
        ".addGrid(dt.minInstancesPerNode, [5, 10, 20, 30]) \\\n",
        ".build()\n",
        "\n",
        "cv = CrossValidator(estimator=dt, \\\n",
        "estimatorParamMaps=dt_paramGrid, \\\n",
        "evaluator=rmse_evaluator, \\\n",
        "numFolds=5, \\\n",
        "parallelism=2)\n"
      ],
      "execution_count": null,
      "outputs": []
    },
    {
      "cell_type": "markdown",
      "metadata": {
        "id": "avjGI9y2_Kbl"
      },
      "source": [
        "#### Sans pré-traitements (baseline)"
      ]
    },
    {
      "cell_type": "code",
      "metadata": {
        "id": "V_ugRwUkzrZB"
      },
      "source": [
        "#Les données sont data\n",
        "res = cv.fit(data)"
      ],
      "execution_count": null,
      "outputs": []
    },
    {
      "cell_type": "code",
      "metadata": {
        "colab": {
          "base_uri": "https://localhost:8080/",
          "height": 793
        },
        "id": "Zj1jeXqbJNEY",
        "outputId": "2f02861d-2a68-4080-9bc1-9ed226c264ec"
      },
      "source": [
        "params = [{p.name: v for p, v in m.items()} for m in res.getEstimatorParamMaps()]\n",
        "pd.DataFrame.from_dict([\n",
        "    {res.getEvaluator().getMetricName(): metric, **ps} \n",
        "    for ps, metric in zip(params, res.avgMetrics)\n",
        "])"
      ],
      "execution_count": null,
      "outputs": [
        {
          "output_type": "execute_result",
          "data": {
            "text/html": [
              "<div>\n",
              "<style scoped>\n",
              "    .dataframe tbody tr th:only-of-type {\n",
              "        vertical-align: middle;\n",
              "    }\n",
              "\n",
              "    .dataframe tbody tr th {\n",
              "        vertical-align: top;\n",
              "    }\n",
              "\n",
              "    .dataframe thead th {\n",
              "        text-align: right;\n",
              "    }\n",
              "</style>\n",
              "<table border=\"1\" class=\"dataframe\">\n",
              "  <thead>\n",
              "    <tr style=\"text-align: right;\">\n",
              "      <th></th>\n",
              "      <th>rmse</th>\n",
              "      <th>maxDepth</th>\n",
              "      <th>minInstancesPerNode</th>\n",
              "    </tr>\n",
              "  </thead>\n",
              "  <tbody>\n",
              "    <tr>\n",
              "      <th>0</th>\n",
              "      <td>2.571830e+06</td>\n",
              "      <td>3</td>\n",
              "      <td>5</td>\n",
              "    </tr>\n",
              "    <tr>\n",
              "      <th>1</th>\n",
              "      <td>2.571755e+06</td>\n",
              "      <td>3</td>\n",
              "      <td>10</td>\n",
              "    </tr>\n",
              "    <tr>\n",
              "      <th>2</th>\n",
              "      <td>2.571711e+06</td>\n",
              "      <td>3</td>\n",
              "      <td>20</td>\n",
              "    </tr>\n",
              "    <tr>\n",
              "      <th>3</th>\n",
              "      <td>2.571705e+06</td>\n",
              "      <td>3</td>\n",
              "      <td>30</td>\n",
              "    </tr>\n",
              "    <tr>\n",
              "      <th>4</th>\n",
              "      <td>3.215612e+06</td>\n",
              "      <td>4</td>\n",
              "      <td>5</td>\n",
              "    </tr>\n",
              "    <tr>\n",
              "      <th>5</th>\n",
              "      <td>2.914369e+06</td>\n",
              "      <td>4</td>\n",
              "      <td>10</td>\n",
              "    </tr>\n",
              "    <tr>\n",
              "      <th>6</th>\n",
              "      <td>2.717427e+06</td>\n",
              "      <td>4</td>\n",
              "      <td>20</td>\n",
              "    </tr>\n",
              "    <tr>\n",
              "      <th>7</th>\n",
              "      <td>2.571767e+06</td>\n",
              "      <td>4</td>\n",
              "      <td>30</td>\n",
              "    </tr>\n",
              "    <tr>\n",
              "      <th>8</th>\n",
              "      <td>3.215624e+06</td>\n",
              "      <td>5</td>\n",
              "      <td>5</td>\n",
              "    </tr>\n",
              "    <tr>\n",
              "      <th>9</th>\n",
              "      <td>2.914440e+06</td>\n",
              "      <td>5</td>\n",
              "      <td>10</td>\n",
              "    </tr>\n",
              "    <tr>\n",
              "      <th>10</th>\n",
              "      <td>2.717449e+06</td>\n",
              "      <td>5</td>\n",
              "      <td>20</td>\n",
              "    </tr>\n",
              "    <tr>\n",
              "      <th>11</th>\n",
              "      <td>2.571773e+06</td>\n",
              "      <td>5</td>\n",
              "      <td>30</td>\n",
              "    </tr>\n",
              "    <tr>\n",
              "      <th>12</th>\n",
              "      <td>3.215648e+06</td>\n",
              "      <td>6</td>\n",
              "      <td>5</td>\n",
              "    </tr>\n",
              "    <tr>\n",
              "      <th>13</th>\n",
              "      <td>2.914465e+06</td>\n",
              "      <td>6</td>\n",
              "      <td>10</td>\n",
              "    </tr>\n",
              "    <tr>\n",
              "      <th>14</th>\n",
              "      <td>2.717455e+06</td>\n",
              "      <td>6</td>\n",
              "      <td>20</td>\n",
              "    </tr>\n",
              "    <tr>\n",
              "      <th>15</th>\n",
              "      <td>2.571778e+06</td>\n",
              "      <td>6</td>\n",
              "      <td>30</td>\n",
              "    </tr>\n",
              "    <tr>\n",
              "      <th>16</th>\n",
              "      <td>3.216026e+06</td>\n",
              "      <td>7</td>\n",
              "      <td>5</td>\n",
              "    </tr>\n",
              "    <tr>\n",
              "      <th>17</th>\n",
              "      <td>2.914530e+06</td>\n",
              "      <td>7</td>\n",
              "      <td>10</td>\n",
              "    </tr>\n",
              "    <tr>\n",
              "      <th>18</th>\n",
              "      <td>2.717471e+06</td>\n",
              "      <td>7</td>\n",
              "      <td>20</td>\n",
              "    </tr>\n",
              "    <tr>\n",
              "      <th>19</th>\n",
              "      <td>2.571784e+06</td>\n",
              "      <td>7</td>\n",
              "      <td>30</td>\n",
              "    </tr>\n",
              "    <tr>\n",
              "      <th>20</th>\n",
              "      <td>3.216077e+06</td>\n",
              "      <td>8</td>\n",
              "      <td>5</td>\n",
              "    </tr>\n",
              "    <tr>\n",
              "      <th>21</th>\n",
              "      <td>2.914548e+06</td>\n",
              "      <td>8</td>\n",
              "      <td>10</td>\n",
              "    </tr>\n",
              "    <tr>\n",
              "      <th>22</th>\n",
              "      <td>2.717485e+06</td>\n",
              "      <td>8</td>\n",
              "      <td>20</td>\n",
              "    </tr>\n",
              "    <tr>\n",
              "      <th>23</th>\n",
              "      <td>2.571796e+06</td>\n",
              "      <td>8</td>\n",
              "      <td>30</td>\n",
              "    </tr>\n",
              "  </tbody>\n",
              "</table>\n",
              "</div>"
            ],
            "text/plain": [
              "            rmse  maxDepth  minInstancesPerNode\n",
              "0   2.571830e+06         3                    5\n",
              "1   2.571755e+06         3                   10\n",
              "2   2.571711e+06         3                   20\n",
              "3   2.571705e+06         3                   30\n",
              "4   3.215612e+06         4                    5\n",
              "5   2.914369e+06         4                   10\n",
              "6   2.717427e+06         4                   20\n",
              "7   2.571767e+06         4                   30\n",
              "8   3.215624e+06         5                    5\n",
              "9   2.914440e+06         5                   10\n",
              "10  2.717449e+06         5                   20\n",
              "11  2.571773e+06         5                   30\n",
              "12  3.215648e+06         6                    5\n",
              "13  2.914465e+06         6                   10\n",
              "14  2.717455e+06         6                   20\n",
              "15  2.571778e+06         6                   30\n",
              "16  3.216026e+06         7                    5\n",
              "17  2.914530e+06         7                   10\n",
              "18  2.717471e+06         7                   20\n",
              "19  2.571784e+06         7                   30\n",
              "20  3.216077e+06         8                    5\n",
              "21  2.914548e+06         8                   10\n",
              "22  2.717485e+06         8                   20\n",
              "23  2.571796e+06         8                   30"
            ]
          },
          "metadata": {},
          "execution_count": 76
        }
      ]
    },
    {
      "cell_type": "code",
      "metadata": {
        "colab": {
          "base_uri": "https://localhost:8080/"
        },
        "id": "wkIlnzsMBIOz",
        "outputId": "c84ce477-bfcc-4eaa-9612-0554b63b1eb3"
      },
      "source": [
        "res.bestModel"
      ],
      "execution_count": null,
      "outputs": [
        {
          "output_type": "execute_result",
          "data": {
            "text/plain": [
              "DecisionTreeRegressionModel: uid=DecisionTreeRegressor_4cd2db001e96, depth=3, numNodes=13, numFeatures=16"
            ]
          },
          "metadata": {},
          "execution_count": 75
        }
      ]
    },
    {
      "cell_type": "code",
      "metadata": {
        "colab": {
          "base_uri": "https://localhost:8080/"
        },
        "id": "ljY_QjlCbsx3",
        "outputId": "77cf0c65-7b02-47dc-a765-51f9914fa084"
      },
      "source": [
        "train, test = data.randomSplit([0.7, 0.3])\n",
        "dt = DecisionTreeRegressor(featuresCol='features', labelCol='price', predictionCol='prediction', maxBins=404, maxDepth=3)\n",
        "model = dt.fit(train)\n",
        "predict = model.transform(test)\n",
        "rmse_evaluator.evaluate(predict)"
      ],
      "execution_count": null,
      "outputs": [
        {
          "output_type": "execute_result",
          "data": {
            "text/plain": [
              "784362.6832004734"
            ]
          },
          "metadata": {},
          "execution_count": 79
        }
      ]
    },
    {
      "cell_type": "markdown",
      "metadata": {
        "id": "dCZBv8wioNe5"
      },
      "source": [
        "#### Avec les pré-traitements"
      ]
    },
    {
      "cell_type": "code",
      "metadata": {
        "id": "0qEZwAaMoPlG"
      },
      "source": [
        "#Les données sont data_prep\n",
        "res_prep = cv.fit(data_prep)"
      ],
      "execution_count": null,
      "outputs": []
    },
    {
      "cell_type": "code",
      "metadata": {
        "colab": {
          "base_uri": "https://localhost:8080/",
          "height": 793
        },
        "id": "j7VVRqcWUsYQ",
        "outputId": "2a6f4a47-987f-4c31-abc1-81c5c1b566d0"
      },
      "source": [
        "params = [{p.name: v for p, v in m.items()} for m in res_prep.getEstimatorParamMaps()]\n",
        "\n",
        "pd.DataFrame.from_dict([\n",
        "    {res_prep.getEvaluator().getMetricName(): metric, **ps} \n",
        "    for ps, metric in zip(params, res_prep.avgMetrics)\n",
        "])"
      ],
      "execution_count": null,
      "outputs": [
        {
          "output_type": "execute_result",
          "data": {
            "text/html": [
              "<div>\n",
              "<style scoped>\n",
              "    .dataframe tbody tr th:only-of-type {\n",
              "        vertical-align: middle;\n",
              "    }\n",
              "\n",
              "    .dataframe tbody tr th {\n",
              "        vertical-align: top;\n",
              "    }\n",
              "\n",
              "    .dataframe thead th {\n",
              "        text-align: right;\n",
              "    }\n",
              "</style>\n",
              "<table border=\"1\" class=\"dataframe\">\n",
              "  <thead>\n",
              "    <tr style=\"text-align: right;\">\n",
              "      <th></th>\n",
              "      <th>rmse</th>\n",
              "      <th>maxDepth</th>\n",
              "      <th>minInstancesPerNode</th>\n",
              "    </tr>\n",
              "  </thead>\n",
              "  <tbody>\n",
              "    <tr>\n",
              "      <th>0</th>\n",
              "      <td>312.939692</td>\n",
              "      <td>3</td>\n",
              "      <td>5</td>\n",
              "    </tr>\n",
              "    <tr>\n",
              "      <th>1</th>\n",
              "      <td>312.939692</td>\n",
              "      <td>3</td>\n",
              "      <td>10</td>\n",
              "    </tr>\n",
              "    <tr>\n",
              "      <th>2</th>\n",
              "      <td>312.939692</td>\n",
              "      <td>3</td>\n",
              "      <td>20</td>\n",
              "    </tr>\n",
              "    <tr>\n",
              "      <th>3</th>\n",
              "      <td>312.939692</td>\n",
              "      <td>3</td>\n",
              "      <td>30</td>\n",
              "    </tr>\n",
              "    <tr>\n",
              "      <th>4</th>\n",
              "      <td>298.685821</td>\n",
              "      <td>4</td>\n",
              "      <td>5</td>\n",
              "    </tr>\n",
              "    <tr>\n",
              "      <th>5</th>\n",
              "      <td>298.685821</td>\n",
              "      <td>4</td>\n",
              "      <td>10</td>\n",
              "    </tr>\n",
              "    <tr>\n",
              "      <th>6</th>\n",
              "      <td>298.685821</td>\n",
              "      <td>4</td>\n",
              "      <td>20</td>\n",
              "    </tr>\n",
              "    <tr>\n",
              "      <th>7</th>\n",
              "      <td>298.685821</td>\n",
              "      <td>4</td>\n",
              "      <td>30</td>\n",
              "    </tr>\n",
              "    <tr>\n",
              "      <th>8</th>\n",
              "      <td>287.706647</td>\n",
              "      <td>5</td>\n",
              "      <td>5</td>\n",
              "    </tr>\n",
              "    <tr>\n",
              "      <th>9</th>\n",
              "      <td>287.706647</td>\n",
              "      <td>5</td>\n",
              "      <td>10</td>\n",
              "    </tr>\n",
              "    <tr>\n",
              "      <th>10</th>\n",
              "      <td>287.706647</td>\n",
              "      <td>5</td>\n",
              "      <td>20</td>\n",
              "    </tr>\n",
              "    <tr>\n",
              "      <th>11</th>\n",
              "      <td>287.706647</td>\n",
              "      <td>5</td>\n",
              "      <td>30</td>\n",
              "    </tr>\n",
              "    <tr>\n",
              "      <th>12</th>\n",
              "      <td>279.831725</td>\n",
              "      <td>6</td>\n",
              "      <td>5</td>\n",
              "    </tr>\n",
              "    <tr>\n",
              "      <th>13</th>\n",
              "      <td>279.831725</td>\n",
              "      <td>6</td>\n",
              "      <td>10</td>\n",
              "    </tr>\n",
              "    <tr>\n",
              "      <th>14</th>\n",
              "      <td>279.835073</td>\n",
              "      <td>6</td>\n",
              "      <td>20</td>\n",
              "    </tr>\n",
              "    <tr>\n",
              "      <th>15</th>\n",
              "      <td>279.847239</td>\n",
              "      <td>6</td>\n",
              "      <td>30</td>\n",
              "    </tr>\n",
              "    <tr>\n",
              "      <th>16</th>\n",
              "      <td>271.059988</td>\n",
              "      <td>7</td>\n",
              "      <td>5</td>\n",
              "    </tr>\n",
              "    <tr>\n",
              "      <th>17</th>\n",
              "      <td>271.064391</td>\n",
              "      <td>7</td>\n",
              "      <td>10</td>\n",
              "    </tr>\n",
              "    <tr>\n",
              "      <th>18</th>\n",
              "      <td>271.067953</td>\n",
              "      <td>7</td>\n",
              "      <td>20</td>\n",
              "    </tr>\n",
              "    <tr>\n",
              "      <th>19</th>\n",
              "      <td>271.183472</td>\n",
              "      <td>7</td>\n",
              "      <td>30</td>\n",
              "    </tr>\n",
              "    <tr>\n",
              "      <th>20</th>\n",
              "      <td>262.680155</td>\n",
              "      <td>8</td>\n",
              "      <td>5</td>\n",
              "    </tr>\n",
              "    <tr>\n",
              "      <th>21</th>\n",
              "      <td>262.673270</td>\n",
              "      <td>8</td>\n",
              "      <td>10</td>\n",
              "    </tr>\n",
              "    <tr>\n",
              "      <th>22</th>\n",
              "      <td>262.722571</td>\n",
              "      <td>8</td>\n",
              "      <td>20</td>\n",
              "    </tr>\n",
              "    <tr>\n",
              "      <th>23</th>\n",
              "      <td>262.887599</td>\n",
              "      <td>8</td>\n",
              "      <td>30</td>\n",
              "    </tr>\n",
              "  </tbody>\n",
              "</table>\n",
              "</div>"
            ],
            "text/plain": [
              "          rmse  maxDepth  minInstancesPerNode\n",
              "0   312.939692         3                    5\n",
              "1   312.939692         3                   10\n",
              "2   312.939692         3                   20\n",
              "3   312.939692         3                   30\n",
              "4   298.685821         4                    5\n",
              "5   298.685821         4                   10\n",
              "6   298.685821         4                   20\n",
              "7   298.685821         4                   30\n",
              "8   287.706647         5                    5\n",
              "9   287.706647         5                   10\n",
              "10  287.706647         5                   20\n",
              "11  287.706647         5                   30\n",
              "12  279.831725         6                    5\n",
              "13  279.831725         6                   10\n",
              "14  279.835073         6                   20\n",
              "15  279.847239         6                   30\n",
              "16  271.059988         7                    5\n",
              "17  271.064391         7                   10\n",
              "18  271.067953         7                   20\n",
              "19  271.183472         7                   30\n",
              "20  262.680155         8                    5\n",
              "21  262.673270         8                   10\n",
              "22  262.722571         8                   20\n",
              "23  262.887599         8                   30"
            ]
          },
          "metadata": {},
          "execution_count": 94
        }
      ]
    },
    {
      "cell_type": "markdown",
      "metadata": {
        "id": "WSGBn4-hWGLA"
      },
      "source": [
        "On remarque que les résultats sont bien meilleurs, on divise la rmse par 10 000. \n",
        "\n",
        "Dans la partie suivante, nous regarderons si les résultats sont encore meilleurs grâce à PCA. "
      ]
    },
    {
      "cell_type": "code",
      "metadata": {
        "colab": {
          "base_uri": "https://localhost:8080/"
        },
        "id": "uo6p_BD3Un61",
        "outputId": "fcf6eab0-0437-407e-bbfc-be6074e56e5c"
      },
      "source": [
        "res_prep.bestModel"
      ],
      "execution_count": null,
      "outputs": [
        {
          "output_type": "execute_result",
          "data": {
            "text/plain": [
              "DecisionTreeRegressionModel: uid=DecisionTreeRegressor_4cd2db001e96, depth=8, numNodes=505, numFeatures=14"
            ]
          },
          "metadata": {},
          "execution_count": 93
        }
      ]
    },
    {
      "cell_type": "code",
      "metadata": {
        "id": "G8Jorv3Ic0EV"
      },
      "source": [
        "train_prep, test_prep = data_prep.randomSplit([0.7, 0.3])\n",
        "dt_prep = DecisionTreeRegressor(featuresCol='features', labelCol='price', predictionCol='prediction', maxBins=404, maxDepth=8)\n",
        "model_prep = dt_prep.fit(train_prep)\n",
        "predict_prep = model_prep.transform(test_prep)"
      ],
      "execution_count": null,
      "outputs": []
    },
    {
      "cell_type": "code",
      "metadata": {
        "colab": {
          "base_uri": "https://localhost:8080/"
        },
        "id": "hLXfeKcKs80X",
        "outputId": "c47a7318-4395-49f9-d73a-538643158edd"
      },
      "source": [
        "rmse_evaluator.evaluate(predict_prep)"
      ],
      "execution_count": null,
      "outputs": [
        {
          "output_type": "execute_result",
          "data": {
            "text/plain": [
              "263.2065443202104"
            ]
          },
          "metadata": {},
          "execution_count": 103
        }
      ]
    },
    {
      "cell_type": "markdown",
      "metadata": {
        "id": "jnIHZmxX9pgT"
      },
      "source": [
        "On remarque que le meilleur modèle est avec la profondeur la plus grande, on peut alors se demander, si en augmentant encore la profondeur notre modèle sera meilleure ou s'il sur-apprendra. \n",
        "Testons alors sur des valeurs maxDepth plus grandes : "
      ]
    },
    {
      "cell_type": "code",
      "metadata": {
        "id": "hObB34FktdS_"
      },
      "source": [
        "########## AUTRE GRID SEARCH EN AUGMENTANT LA DEPTH ############\n",
        "dt_paramGrid = ParamGridBuilder()\\\n",
        ".addGrid(dt.maxDepth, [9,11,13,15,17])\\\n",
        ".addGrid(dt.minInstancesPerNode, [5, 10, 20, 30]) \\\n",
        ".build()\n",
        "\n",
        "cv = CrossValidator(estimator=dt, \\\n",
        "estimatorParamMaps=dt_paramGrid, \\\n",
        "evaluator=rmse_evaluator, \\\n",
        "numFolds=5, \\\n",
        "parallelism=2)"
      ],
      "execution_count": null,
      "outputs": []
    },
    {
      "cell_type": "code",
      "metadata": {
        "id": "9vXhvbA8v_us"
      },
      "source": [
        "res_prep2 = cv.fit(data_prep)"
      ],
      "execution_count": null,
      "outputs": []
    },
    {
      "cell_type": "code",
      "metadata": {
        "colab": {
          "base_uri": "https://localhost:8080/",
          "height": 669
        },
        "id": "YX6iGUNU8YeI",
        "outputId": "9b002659-f804-496d-e7d8-a6ee91a905a6"
      },
      "source": [
        "params = [{p.name: v for p, v in m.items()} for m in res_prep2.getEstimatorParamMaps()]\n",
        "\n",
        "pd.DataFrame.from_dict([\n",
        "    {res_prep2.getEvaluator().getMetricName(): metric, **ps} \n",
        "    for ps, metric in zip(params, res_prep2.avgMetrics)\n",
        "])"
      ],
      "execution_count": null,
      "outputs": [
        {
          "output_type": "execute_result",
          "data": {
            "text/html": [
              "<div>\n",
              "<style scoped>\n",
              "    .dataframe tbody tr th:only-of-type {\n",
              "        vertical-align: middle;\n",
              "    }\n",
              "\n",
              "    .dataframe tbody tr th {\n",
              "        vertical-align: top;\n",
              "    }\n",
              "\n",
              "    .dataframe thead th {\n",
              "        text-align: right;\n",
              "    }\n",
              "</style>\n",
              "<table border=\"1\" class=\"dataframe\">\n",
              "  <thead>\n",
              "    <tr style=\"text-align: right;\">\n",
              "      <th></th>\n",
              "      <th>rmse</th>\n",
              "      <th>maxDepth</th>\n",
              "      <th>minInstancesPerNode</th>\n",
              "    </tr>\n",
              "  </thead>\n",
              "  <tbody>\n",
              "    <tr>\n",
              "      <th>0</th>\n",
              "      <td>254.272806</td>\n",
              "      <td>9</td>\n",
              "      <td>5</td>\n",
              "    </tr>\n",
              "    <tr>\n",
              "      <th>1</th>\n",
              "      <td>254.265091</td>\n",
              "      <td>9</td>\n",
              "      <td>10</td>\n",
              "    </tr>\n",
              "    <tr>\n",
              "      <th>2</th>\n",
              "      <td>254.451768</td>\n",
              "      <td>9</td>\n",
              "      <td>20</td>\n",
              "    </tr>\n",
              "    <tr>\n",
              "      <th>3</th>\n",
              "      <td>254.988525</td>\n",
              "      <td>9</td>\n",
              "      <td>30</td>\n",
              "    </tr>\n",
              "    <tr>\n",
              "      <th>4</th>\n",
              "      <td>239.725762</td>\n",
              "      <td>11</td>\n",
              "      <td>5</td>\n",
              "    </tr>\n",
              "    <tr>\n",
              "      <th>5</th>\n",
              "      <td>239.671180</td>\n",
              "      <td>11</td>\n",
              "      <td>10</td>\n",
              "    </tr>\n",
              "    <tr>\n",
              "      <th>6</th>\n",
              "      <td>240.573561</td>\n",
              "      <td>11</td>\n",
              "      <td>20</td>\n",
              "    </tr>\n",
              "    <tr>\n",
              "      <th>7</th>\n",
              "      <td>241.814077</td>\n",
              "      <td>11</td>\n",
              "      <td>30</td>\n",
              "    </tr>\n",
              "    <tr>\n",
              "      <th>8</th>\n",
              "      <td>227.877839</td>\n",
              "      <td>13</td>\n",
              "      <td>5</td>\n",
              "    </tr>\n",
              "    <tr>\n",
              "      <th>9</th>\n",
              "      <td>227.240321</td>\n",
              "      <td>13</td>\n",
              "      <td>10</td>\n",
              "    </tr>\n",
              "    <tr>\n",
              "      <th>10</th>\n",
              "      <td>229.543790</td>\n",
              "      <td>13</td>\n",
              "      <td>20</td>\n",
              "    </tr>\n",
              "    <tr>\n",
              "      <th>11</th>\n",
              "      <td>231.848124</td>\n",
              "      <td>13</td>\n",
              "      <td>30</td>\n",
              "    </tr>\n",
              "    <tr>\n",
              "      <th>12</th>\n",
              "      <td>218.692995</td>\n",
              "      <td>15</td>\n",
              "      <td>5</td>\n",
              "    </tr>\n",
              "    <tr>\n",
              "      <th>13</th>\n",
              "      <td>218.170403</td>\n",
              "      <td>15</td>\n",
              "      <td>10</td>\n",
              "    </tr>\n",
              "    <tr>\n",
              "      <th>14</th>\n",
              "      <td>221.912450</td>\n",
              "      <td>15</td>\n",
              "      <td>20</td>\n",
              "    </tr>\n",
              "    <tr>\n",
              "      <th>15</th>\n",
              "      <td>225.171333</td>\n",
              "      <td>15</td>\n",
              "      <td>30</td>\n",
              "    </tr>\n",
              "    <tr>\n",
              "      <th>16</th>\n",
              "      <td>212.092465</td>\n",
              "      <td>17</td>\n",
              "      <td>5</td>\n",
              "    </tr>\n",
              "    <tr>\n",
              "      <th>17</th>\n",
              "      <td>211.962400</td>\n",
              "      <td>17</td>\n",
              "      <td>10</td>\n",
              "    </tr>\n",
              "    <tr>\n",
              "      <th>18</th>\n",
              "      <td>217.369628</td>\n",
              "      <td>17</td>\n",
              "      <td>20</td>\n",
              "    </tr>\n",
              "    <tr>\n",
              "      <th>19</th>\n",
              "      <td>221.613851</td>\n",
              "      <td>17</td>\n",
              "      <td>30</td>\n",
              "    </tr>\n",
              "  </tbody>\n",
              "</table>\n",
              "</div>"
            ],
            "text/plain": [
              "          rmse  maxDepth  minInstancesPerNode\n",
              "0   254.272806         9                    5\n",
              "1   254.265091         9                   10\n",
              "2   254.451768         9                   20\n",
              "3   254.988525         9                   30\n",
              "4   239.725762        11                    5\n",
              "5   239.671180        11                   10\n",
              "6   240.573561        11                   20\n",
              "7   241.814077        11                   30\n",
              "8   227.877839        13                    5\n",
              "9   227.240321        13                   10\n",
              "10  229.543790        13                   20\n",
              "11  231.848124        13                   30\n",
              "12  218.692995        15                    5\n",
              "13  218.170403        15                   10\n",
              "14  221.912450        15                   20\n",
              "15  225.171333        15                   30\n",
              "16  212.092465        17                    5\n",
              "17  211.962400        17                   10\n",
              "18  217.369628        17                   20\n",
              "19  221.613851        17                   30"
            ]
          },
          "metadata": {},
          "execution_count": 109
        }
      ]
    },
    {
      "cell_type": "code",
      "metadata": {
        "colab": {
          "base_uri": "https://localhost:8080/"
        },
        "id": "6ml1iSr_9fpe",
        "outputId": "eaa18e40-6f0f-4dfc-ad40-f8b883ba80b3"
      },
      "source": [
        "res_prep2.bestModel"
      ],
      "execution_count": null,
      "outputs": [
        {
          "output_type": "execute_result",
          "data": {
            "text/plain": [
              "DecisionTreeRegressionModel: uid=DecisionTreeRegressor_8b0f8a938feb, depth=17, numNodes=22501, numFeatures=14"
            ]
          },
          "metadata": {},
          "execution_count": 112
        }
      ]
    },
    {
      "cell_type": "markdown",
      "metadata": {
        "id": "4kKTTCHW-FpB"
      },
      "source": [
        "Nous aboutissons à la même conclusion que précédement. Nous allons continuer d'explorer un peu plus l'espace des hyperparamètres en augmentant maxDepth.\n",
        "On peut par ailleurs, remarquer que les meilleurs score ont minInstancePerNode=10.\n"
      ]
    },
    {
      "cell_type": "code",
      "metadata": {
        "id": "WMMSOWw_aGxY"
      },
      "source": [
        "dt_prep = DecisionTreeRegressor(featuresCol='features', labelCol='price', predictionCol='prediction', maxBins=404, maxDepth=17, minInstancesPerNode=10 )\n",
        "model_prep = dt_prep.fit(train_prep)\n",
        "predict_prep = model_prep.transform(test_prep)"
      ],
      "execution_count": null,
      "outputs": []
    },
    {
      "cell_type": "code",
      "metadata": {
        "colab": {
          "base_uri": "https://localhost:8080/"
        },
        "id": "WMEcXgFScrQ0",
        "outputId": "fd19974b-9cd6-46f0-9b32-d010f0e549e3"
      },
      "source": [
        "rmse_evaluator.evaluate(predict_prep)"
      ],
      "execution_count": null,
      "outputs": [
        {
          "output_type": "execute_result",
          "data": {
            "text/plain": [
              "212.81194628630064"
            ]
          },
          "metadata": {},
          "execution_count": 30
        }
      ]
    },
    {
      "cell_type": "code",
      "metadata": {
        "id": "F9trPVVFdR2j"
      },
      "source": [
        "########## AUTRE GRID SEARCH EN AUGMENTANT LA DEPTH ############\n",
        "dt_paramGrid = ParamGridBuilder()\\\n",
        ".addGrid(dt.maxDepth, [19,21,23,25,27])\\\n",
        ".addGrid(dt.minInstancesPerNode, [10]) \\\n",
        ".build()\n",
        "\n",
        "cv = CrossValidator(estimator=dt, \\\n",
        "estimatorParamMaps=dt_paramGrid, \\\n",
        "evaluator=rmse_evaluator, \\\n",
        "numFolds=5, \\\n",
        "parallelism=2)"
      ],
      "execution_count": null,
      "outputs": []
    },
    {
      "cell_type": "code",
      "metadata": {
        "id": "WiunkluPd0B7"
      },
      "source": [
        "res_prep4 = cv.fit(data_prep)"
      ],
      "execution_count": null,
      "outputs": []
    },
    {
      "cell_type": "code",
      "metadata": {
        "colab": {
          "base_uri": "https://localhost:8080/",
          "height": 204
        },
        "id": "K58kjwrSoDZl",
        "outputId": "128c6730-5d97-4be3-85d5-306ab61bbc77"
      },
      "source": [
        "params = [{p.name: v for p, v in m.items()} for m in res_prep4.getEstimatorParamMaps()]\n",
        "\n",
        "pd.DataFrame.from_dict([\n",
        "    {res_prep4.getEvaluator().getMetricName(): metric, **ps} \n",
        "    for ps, metric in zip(params, res_prep4.avgMetrics)\n",
        "])"
      ],
      "execution_count": null,
      "outputs": [
        {
          "output_type": "execute_result",
          "data": {
            "text/html": [
              "<div>\n",
              "<style scoped>\n",
              "    .dataframe tbody tr th:only-of-type {\n",
              "        vertical-align: middle;\n",
              "    }\n",
              "\n",
              "    .dataframe tbody tr th {\n",
              "        vertical-align: top;\n",
              "    }\n",
              "\n",
              "    .dataframe thead th {\n",
              "        text-align: right;\n",
              "    }\n",
              "</style>\n",
              "<table border=\"1\" class=\"dataframe\">\n",
              "  <thead>\n",
              "    <tr style=\"text-align: right;\">\n",
              "      <th></th>\n",
              "      <th>rmse</th>\n",
              "      <th>maxDepth</th>\n",
              "      <th>minInstancesPerNode</th>\n",
              "    </tr>\n",
              "  </thead>\n",
              "  <tbody>\n",
              "    <tr>\n",
              "      <th>0</th>\n",
              "      <td>208.936199</td>\n",
              "      <td>19</td>\n",
              "      <td>10</td>\n",
              "    </tr>\n",
              "    <tr>\n",
              "      <th>1</th>\n",
              "      <td>207.091703</td>\n",
              "      <td>21</td>\n",
              "      <td>10</td>\n",
              "    </tr>\n",
              "    <tr>\n",
              "      <th>2</th>\n",
              "      <td>206.304677</td>\n",
              "      <td>23</td>\n",
              "      <td>10</td>\n",
              "    </tr>\n",
              "    <tr>\n",
              "      <th>3</th>\n",
              "      <td>206.005109</td>\n",
              "      <td>25</td>\n",
              "      <td>10</td>\n",
              "    </tr>\n",
              "    <tr>\n",
              "      <th>4</th>\n",
              "      <td>205.938871</td>\n",
              "      <td>27</td>\n",
              "      <td>10</td>\n",
              "    </tr>\n",
              "  </tbody>\n",
              "</table>\n",
              "</div>"
            ],
            "text/plain": [
              "         rmse  maxDepth  minInstancesPerNode\n",
              "0  208.936199        19                   10\n",
              "1  207.091703        21                   10\n",
              "2  206.304677        23                   10\n",
              "3  206.005109        25                   10\n",
              "4  205.938871        27                   10"
            ]
          },
          "metadata": {},
          "execution_count": 35
        }
      ]
    },
    {
      "cell_type": "markdown",
      "metadata": {
        "id": "plI3vbRaphoD"
      },
      "source": [
        "En effet, on obtient à nouveau une meilleure rmse.\n",
        "\n",
        "Pour aller plus loin, on pourrait chercher à partir de quand le modèle sur-apprend."
      ]
    },
    {
      "cell_type": "markdown",
      "metadata": {
        "id": "jjjzdc4DoG8_"
      },
      "source": [
        "#### Avec les attributs de PCA"
      ]
    },
    {
      "cell_type": "code",
      "metadata": {
        "id": "RGFSm34Sn6Ho"
      },
      "source": [
        "#On redéfinie DecisionTreeRegressor car le nom des colonnes des features est différentes\n",
        "dt_pca = DecisionTreeRegressor(featuresCol='pca_output', labelCol='price', predictionCol='prediction', maxBins=404)"
      ],
      "execution_count": null,
      "outputs": []
    },
    {
      "cell_type": "code",
      "metadata": {
        "id": "tG7Hbq4yVoRq"
      },
      "source": [
        "#On redéfinie le CrossValidator pour y mettre dt_pca comme estimator\n",
        "cv_pca = CrossValidator(estimator=dt_pca, \\\n",
        "estimatorParamMaps=dt_paramGrid, \\\n",
        "evaluator=rmse_evaluator, \\\n",
        "numFolds=5, \\\n",
        "parallelism=2)"
      ],
      "execution_count": null,
      "outputs": []
    },
    {
      "cell_type": "code",
      "metadata": {
        "id": "X-eI145kVs9F"
      },
      "source": [
        "#On applique la cross-valisation sur features_pca (c'est features sélectionnées par pca)\n",
        "res_pca = cv_pca.fit(features_pca)"
      ],
      "execution_count": null,
      "outputs": []
    },
    {
      "cell_type": "code",
      "metadata": {
        "colab": {
          "base_uri": "https://localhost:8080/"
        },
        "id": "pONsDEhBaOfI",
        "outputId": "17167539-6b5d-4fa2-bd21-0a25ffada554"
      },
      "source": [
        "res_pca.bestModel"
      ],
      "execution_count": null,
      "outputs": [
        {
          "output_type": "execute_result",
          "data": {
            "text/plain": [
              "DecisionTreeRegressionModel: uid=DecisionTreeRegressor_dec4de9f0852, depth=5, numNodes=63, numFeatures=5"
            ]
          },
          "metadata": {},
          "execution_count": 99
        }
      ]
    },
    {
      "cell_type": "code",
      "metadata": {
        "colab": {
          "base_uri": "https://localhost:8080/",
          "height": 793
        },
        "id": "I6fhrtwuaHBy",
        "outputId": "02644830-bd20-4ba2-d981-3deb8bf1bbba"
      },
      "source": [
        "params = [{p.name: v for p, v in m.items()} for m in res_pca.getEstimatorParamMaps()]\n",
        "\n",
        "pd.DataFrame.from_dict([\n",
        "    {res_pca.getEvaluator().getMetricName(): metric, **ps} \n",
        "    for ps, metric in zip(params, res_pca.avgMetrics)\n",
        "])"
      ],
      "execution_count": null,
      "outputs": [
        {
          "output_type": "execute_result",
          "data": {
            "text/html": [
              "<div>\n",
              "<style scoped>\n",
              "    .dataframe tbody tr th:only-of-type {\n",
              "        vertical-align: middle;\n",
              "    }\n",
              "\n",
              "    .dataframe tbody tr th {\n",
              "        vertical-align: top;\n",
              "    }\n",
              "\n",
              "    .dataframe thead th {\n",
              "        text-align: right;\n",
              "    }\n",
              "</style>\n",
              "<table border=\"1\" class=\"dataframe\">\n",
              "  <thead>\n",
              "    <tr style=\"text-align: right;\">\n",
              "      <th></th>\n",
              "      <th>rmse</th>\n",
              "      <th>maxDepth</th>\n",
              "      <th>minInstancesPerNode</th>\n",
              "    </tr>\n",
              "  </thead>\n",
              "  <tbody>\n",
              "    <tr>\n",
              "      <th>0</th>\n",
              "      <td>352.912349</td>\n",
              "      <td>3</td>\n",
              "      <td>5</td>\n",
              "    </tr>\n",
              "    <tr>\n",
              "      <th>1</th>\n",
              "      <td>352.912349</td>\n",
              "      <td>3</td>\n",
              "      <td>10</td>\n",
              "    </tr>\n",
              "    <tr>\n",
              "      <th>2</th>\n",
              "      <td>352.912349</td>\n",
              "      <td>3</td>\n",
              "      <td>20</td>\n",
              "    </tr>\n",
              "    <tr>\n",
              "      <th>3</th>\n",
              "      <td>352.912349</td>\n",
              "      <td>3</td>\n",
              "      <td>30</td>\n",
              "    </tr>\n",
              "    <tr>\n",
              "      <th>4</th>\n",
              "      <td>352.912349</td>\n",
              "      <td>4</td>\n",
              "      <td>5</td>\n",
              "    </tr>\n",
              "    <tr>\n",
              "      <th>5</th>\n",
              "      <td>352.912349</td>\n",
              "      <td>4</td>\n",
              "      <td>10</td>\n",
              "    </tr>\n",
              "    <tr>\n",
              "      <th>6</th>\n",
              "      <td>352.912349</td>\n",
              "      <td>4</td>\n",
              "      <td>20</td>\n",
              "    </tr>\n",
              "    <tr>\n",
              "      <th>7</th>\n",
              "      <td>352.912349</td>\n",
              "      <td>4</td>\n",
              "      <td>30</td>\n",
              "    </tr>\n",
              "    <tr>\n",
              "      <th>8</th>\n",
              "      <td>352.912349</td>\n",
              "      <td>5</td>\n",
              "      <td>5</td>\n",
              "    </tr>\n",
              "    <tr>\n",
              "      <th>9</th>\n",
              "      <td>352.912349</td>\n",
              "      <td>5</td>\n",
              "      <td>10</td>\n",
              "    </tr>\n",
              "    <tr>\n",
              "      <th>10</th>\n",
              "      <td>352.912349</td>\n",
              "      <td>5</td>\n",
              "      <td>20</td>\n",
              "    </tr>\n",
              "    <tr>\n",
              "      <th>11</th>\n",
              "      <td>352.912349</td>\n",
              "      <td>5</td>\n",
              "      <td>30</td>\n",
              "    </tr>\n",
              "    <tr>\n",
              "      <th>12</th>\n",
              "      <td>352.912349</td>\n",
              "      <td>6</td>\n",
              "      <td>5</td>\n",
              "    </tr>\n",
              "    <tr>\n",
              "      <th>13</th>\n",
              "      <td>352.912349</td>\n",
              "      <td>6</td>\n",
              "      <td>10</td>\n",
              "    </tr>\n",
              "    <tr>\n",
              "      <th>14</th>\n",
              "      <td>352.912349</td>\n",
              "      <td>6</td>\n",
              "      <td>20</td>\n",
              "    </tr>\n",
              "    <tr>\n",
              "      <th>15</th>\n",
              "      <td>352.912349</td>\n",
              "      <td>6</td>\n",
              "      <td>30</td>\n",
              "    </tr>\n",
              "    <tr>\n",
              "      <th>16</th>\n",
              "      <td>352.912349</td>\n",
              "      <td>7</td>\n",
              "      <td>5</td>\n",
              "    </tr>\n",
              "    <tr>\n",
              "      <th>17</th>\n",
              "      <td>352.912349</td>\n",
              "      <td>7</td>\n",
              "      <td>10</td>\n",
              "    </tr>\n",
              "    <tr>\n",
              "      <th>18</th>\n",
              "      <td>352.912349</td>\n",
              "      <td>7</td>\n",
              "      <td>20</td>\n",
              "    </tr>\n",
              "    <tr>\n",
              "      <th>19</th>\n",
              "      <td>352.912349</td>\n",
              "      <td>7</td>\n",
              "      <td>30</td>\n",
              "    </tr>\n",
              "    <tr>\n",
              "      <th>20</th>\n",
              "      <td>352.912349</td>\n",
              "      <td>8</td>\n",
              "      <td>5</td>\n",
              "    </tr>\n",
              "    <tr>\n",
              "      <th>21</th>\n",
              "      <td>352.912349</td>\n",
              "      <td>8</td>\n",
              "      <td>10</td>\n",
              "    </tr>\n",
              "    <tr>\n",
              "      <th>22</th>\n",
              "      <td>352.912349</td>\n",
              "      <td>8</td>\n",
              "      <td>20</td>\n",
              "    </tr>\n",
              "    <tr>\n",
              "      <th>23</th>\n",
              "      <td>352.912349</td>\n",
              "      <td>8</td>\n",
              "      <td>30</td>\n",
              "    </tr>\n",
              "  </tbody>\n",
              "</table>\n",
              "</div>"
            ],
            "text/plain": [
              "          rmse  maxDepth  minInstancesPerNode\n",
              "0   352.912349         3                    5\n",
              "1   352.912349         3                   10\n",
              "2   352.912349         3                   20\n",
              "3   352.912349         3                   30\n",
              "4   352.912349         4                    5\n",
              "5   352.912349         4                   10\n",
              "6   352.912349         4                   20\n",
              "7   352.912349         4                   30\n",
              "8   352.912349         5                    5\n",
              "9   352.912349         5                   10\n",
              "10  352.912349         5                   20\n",
              "11  352.912349         5                   30\n",
              "12  352.912349         6                    5\n",
              "13  352.912349         6                   10\n",
              "14  352.912349         6                   20\n",
              "15  352.912349         6                   30\n",
              "16  352.912349         7                    5\n",
              "17  352.912349         7                   10\n",
              "18  352.912349         7                   20\n",
              "19  352.912349         7                   30\n",
              "20  352.912349         8                    5\n",
              "21  352.912349         8                   10\n",
              "22  352.912349         8                   20\n",
              "23  352.912349         8                   30"
            ]
          },
          "metadata": {},
          "execution_count": 100
        }
      ]
    },
    {
      "cell_type": "code",
      "metadata": {
        "id": "vwJQQTBsaSWA"
      },
      "source": [
        "train_pca, test_pca = features_pca.randomSplit([0.7, 0.3])\n",
        "dt_pca = DecisionTreeRegressor(featuresCol='pca_output', labelCol='price', predictionCol='prediction', maxBins=404, maxDepth=5)\n",
        "model_pca = dt_pca.fit(train_pca)\n",
        "predict_pca = model_pca.transform(test_pca)"
      ],
      "execution_count": null,
      "outputs": []
    },
    {
      "cell_type": "code",
      "metadata": {
        "colab": {
          "base_uri": "https://localhost:8080/"
        },
        "id": "iOsWphFUtNRf",
        "outputId": "f0bd6763-1d8d-4af3-99b5-870cc945906c"
      },
      "source": [
        "rmse_evaluator.evaluate(predict_pca)"
      ],
      "execution_count": null,
      "outputs": [
        {
          "output_type": "execute_result",
          "data": {
            "text/plain": [
              "351.56743218515163"
            ]
          },
          "metadata": {},
          "execution_count": 104
        }
      ]
    },
    {
      "cell_type": "markdown",
      "metadata": {
        "id": "LLObx37g_9uE"
      },
      "source": [
        "On remarque que les scores sont moins bons que sans la sélection poussée d'attribut."
      ]
    },
    {
      "cell_type": "markdown",
      "metadata": {
        "id": "Kacri73sAQOJ"
      },
      "source": [
        "### Conclusion et ouverture\n"
      ]
    },
    {
      "cell_type": "markdown",
      "metadata": {
        "id": "vCb3VohTDtUR"
      },
      "source": [
        "Les meilleurs résultats sont obtenus en :     \n",
        "- supprimant les valeurs nulles de longitude et latitude\n",
        "- supprimant les colonnes id, url, region_url, image_url, parking_options et laundry_options\n",
        "- une profondeur de 27 pour l'arbre de décision et le minimum d'instance par noeud à 10.\n",
        "\n",
        "Pour aller plus loin, on pourrait essayer de  : \n",
        "- normaliser les données \n",
        "- sélectionner moins de features\n",
        "- faire de plus grand gridSearch avec plus de d'hyperparamètres\n",
        "- essayer d'autres métriques..."
      ]
    },
    {
      "cell_type": "markdown",
      "metadata": {
        "id": "R5ZJa3iU_2bh"
      },
      "source": [
        "##END"
      ]
    }
  ]
}